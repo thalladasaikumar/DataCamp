{
 "cells": [
  {
   "cell_type": "code",
   "execution_count": 1,
   "metadata": {},
   "outputs": [],
   "source": [
    "import pandas as pd\n",
    "import numpy as np"
   ]
  },
  {
   "cell_type": "markdown",
   "metadata": {},
   "source": [
    "<h1>Converting data types</h1>\n",
    "<div class=\"\"><p>In this exercise, you'll see how ensuring all categorical variables in a DataFrame are of type <code>category</code> reduces memory usage.</p>\n",
    "<p>The <a href=\"https://github.com/mwaskom/seaborn-data/blob/master/tips.csv\" target=\"_blank\" rel=\"noopener noreferrer\">tips dataset</a> has been loaded into a DataFrame called <code>tips</code>. This data contains information about how much a customer tipped, whether the customer was male or female, a smoker or not, etc. </p>\n",
    "<p>Look at the output of <code>tips.info()</code> in the IPython Shell. You'll note that two columns that should be categorical - <code>sex</code> and <code>smoker</code> - are instead of type <code>object</code>, which is pandas' way of storing arbitrary strings. Your job is to convert these two columns to type <code>category</code> and note the reduced memory usage.</p></div>"
   ]
  },
  {
   "cell_type": "code",
   "execution_count": 3,
   "metadata": {},
   "outputs": [
    {
     "name": "stdout",
     "output_type": "stream",
     "text": [
      "<class 'pandas.core.frame.DataFrame'>\n",
      "Int64Index: 244 entries, 0 to 243\n",
      "Data columns (total 7 columns):\n",
      "total_bill    244 non-null float64\n",
      "tip           244 non-null float64\n",
      "sex           244 non-null category\n",
      "smoker        244 non-null category\n",
      "day           244 non-null object\n",
      "time          244 non-null object\n",
      "size          244 non-null int64\n",
      "dtypes: category(2), float64(2), int64(1), object(2)\n",
      "memory usage: 12.1+ KB\n",
      "None\n"
     ]
    }
   ],
   "source": [
    "tips = pd.read_csv('tips.csv', index_col=0)\n",
    "# Convert the sex column to type 'category'\n",
    "tips.sex = tips.sex.astype('category')\n",
    "\n",
    "# Convert the smoker column to type 'category'\n",
    "tips.smoker = tips.smoker.astype('category')\n",
    "\n",
    "# Print the info of tips\n",
    "print(tips.info())"
   ]
  },
  {
   "cell_type": "code",
   "execution_count": 4,
   "metadata": {},
   "outputs": [
    {
     "data": {
      "text/html": [
       "<div>\n",
       "<style scoped>\n",
       "    .dataframe tbody tr th:only-of-type {\n",
       "        vertical-align: middle;\n",
       "    }\n",
       "\n",
       "    .dataframe tbody tr th {\n",
       "        vertical-align: top;\n",
       "    }\n",
       "\n",
       "    .dataframe thead th {\n",
       "        text-align: right;\n",
       "    }\n",
       "</style>\n",
       "<table border=\"1\" class=\"dataframe\">\n",
       "  <thead>\n",
       "    <tr style=\"text-align: right;\">\n",
       "      <th></th>\n",
       "      <th>total_bill</th>\n",
       "      <th>tip</th>\n",
       "      <th>sex</th>\n",
       "      <th>smoker</th>\n",
       "      <th>day</th>\n",
       "      <th>time</th>\n",
       "      <th>size</th>\n",
       "    </tr>\n",
       "  </thead>\n",
       "  <tbody>\n",
       "    <tr>\n",
       "      <th>0</th>\n",
       "      <td>16.99</td>\n",
       "      <td>1.01</td>\n",
       "      <td>Female</td>\n",
       "      <td>No</td>\n",
       "      <td>Sun</td>\n",
       "      <td>Dinner</td>\n",
       "      <td>2</td>\n",
       "    </tr>\n",
       "    <tr>\n",
       "      <th>1</th>\n",
       "      <td>10.34</td>\n",
       "      <td>1.66</td>\n",
       "      <td>Male</td>\n",
       "      <td>No</td>\n",
       "      <td>Sun</td>\n",
       "      <td>Dinner</td>\n",
       "      <td>3</td>\n",
       "    </tr>\n",
       "    <tr>\n",
       "      <th>2</th>\n",
       "      <td>21.01</td>\n",
       "      <td>3.50</td>\n",
       "      <td>Male</td>\n",
       "      <td>No</td>\n",
       "      <td>Sun</td>\n",
       "      <td>Dinner</td>\n",
       "      <td>3</td>\n",
       "    </tr>\n",
       "    <tr>\n",
       "      <th>3</th>\n",
       "      <td>23.68</td>\n",
       "      <td>3.31</td>\n",
       "      <td>Male</td>\n",
       "      <td>No</td>\n",
       "      <td>Sun</td>\n",
       "      <td>Dinner</td>\n",
       "      <td>2</td>\n",
       "    </tr>\n",
       "    <tr>\n",
       "      <th>4</th>\n",
       "      <td>24.59</td>\n",
       "      <td>3.61</td>\n",
       "      <td>Female</td>\n",
       "      <td>No</td>\n",
       "      <td>Sun</td>\n",
       "      <td>Dinner</td>\n",
       "      <td>4</td>\n",
       "    </tr>\n",
       "  </tbody>\n",
       "</table>\n",
       "</div>"
      ],
      "text/plain": [
       "   total_bill   tip     sex smoker  day    time  size\n",
       "0       16.99  1.01  Female     No  Sun  Dinner     2\n",
       "1       10.34  1.66    Male     No  Sun  Dinner     3\n",
       "2       21.01  3.50    Male     No  Sun  Dinner     3\n",
       "3       23.68  3.31    Male     No  Sun  Dinner     2\n",
       "4       24.59  3.61  Female     No  Sun  Dinner     4"
      ]
     },
     "execution_count": 4,
     "metadata": {},
     "output_type": "execute_result"
    }
   ],
   "source": [
    "tips.head()"
   ]
  },
  {
   "cell_type": "markdown",
   "metadata": {},
   "source": [
    "<h1>Working with numeric data</h1>\n",
    "<div class=\"\"><p>If you expect the data type of a column to be numeric (<code>int</code> or <code>float</code>), but instead it is of type <code>object</code>,\n",
    "this typically means that there is a non numeric value in the column, which also signifies bad data.</p>\n",
    "<p>You can use the <code>pd.to_numeric()</code> function to convert a column into a numeric data type. If the function\n",
    "raises an error, you can be sure that there is a bad value within the column. You can either use the techniques\n",
    "you learned in Chapter 1 to do some exploratory data analysis and find the bad value, or you can choose to ignore \n",
    "or <code>coerce</code> the value into a missing value, <code>NaN</code>.</p>\n",
    "<p>A modified version of the tips dataset has been pre-loaded into a DataFrame called <code>tips</code>. For instructional purposes, it has been pre-processed to introduce some 'bad' data for you to clean. Use the <code>.info()</code> method to explore this. You'll note that the <code>total_bill</code> and <code>tip</code> columns, which should be numeric, are instead of type <code>object</code>. Your job is to fix this.</p></div>"
   ]
  },
  {
   "cell_type": "code",
   "execution_count": 7,
   "metadata": {},
   "outputs": [
    {
     "name": "stdout",
     "output_type": "stream",
     "text": [
      "<class 'pandas.core.frame.DataFrame'>\n",
      "Int64Index: 244 entries, 0 to 243\n",
      "Data columns (total 7 columns):\n",
      "total_bill    244 non-null object\n",
      "tip           244 non-null object\n",
      "sex           234 non-null object\n",
      "smoker        229 non-null object\n",
      "day           243 non-null object\n",
      "time          227 non-null object\n",
      "size          231 non-null float64\n",
      "dtypes: float64(1), object(6)\n",
      "memory usage: 15.2+ KB\n",
      "None\n",
      "<class 'pandas.core.frame.DataFrame'>\n",
      "Int64Index: 244 entries, 0 to 243\n",
      "Data columns (total 7 columns):\n",
      "total_bill    202 non-null float64\n",
      "tip           220 non-null float64\n",
      "sex           234 non-null object\n",
      "smoker        229 non-null object\n",
      "day           243 non-null object\n",
      "time          227 non-null object\n",
      "size          231 non-null float64\n",
      "dtypes: float64(3), object(4)\n",
      "memory usage: 15.2+ KB\n",
      "None\n"
     ]
    }
   ],
   "source": [
    "tips = pd.read_csv('tips2.csv', index_col=0)\n",
    "print(tips.info())\n",
    "# Convert 'total_bill' to a numeric dtype\n",
    "tips['total_bill'] = pd.to_numeric(tips['total_bill'], errors='coerce')\n",
    "\n",
    "# Convert 'tip' to a numeric dtype\n",
    "tips['tip'] = pd.to_numeric(tips['tip'], errors='coerce')\n",
    "\n",
    "# Print the info of tips\n",
    "print(tips.info())\n"
   ]
  },
  {
   "cell_type": "markdown",
   "metadata": {},
   "source": [
    "<h1>String parsing with regular expressions</h1>\n",
    "<div class=\"\"><p>In the video, Dan introduced you to the basics of regular expressions, which are powerful ways of defining patterns to match strings. This exercise will get you started with writing them.</p>\n",
    "<p>When working with data, it is sometimes necessary to write a regular expression to look for properly entered values.\n",
    "Phone numbers in a dataset is a common field that needs to be checked for validity. Your job in this exercise is to define a regular expression to match US phone numbers that fit the pattern of <code>xxx-xxx-xxxx</code>.</p>\n",
    "<p>The <a href=\"https://docs.python.org/3/library/re.html\" target=\"_blank\" rel=\"noopener noreferrer\">regular expression module</a> in python is <code>re</code>.\n",
    "When performing pattern matching on data, since the pattern will be used for a match across multiple rows,\n",
    "it's better to compile the pattern first using <code>re.compile()</code>, and then use the compiled pattern to match values.</p></div>"
   ]
  },
  {
   "cell_type": "code",
   "execution_count": 8,
   "metadata": {},
   "outputs": [
    {
     "name": "stdout",
     "output_type": "stream",
     "text": [
      "True\n",
      "False\n"
     ]
    }
   ],
   "source": [
    "# Import the regular expression module\n",
    "import re\n",
    "\n",
    "# Compile the pattern: prog\n",
    "prog = re.compile('\\d{3}-\\d{3}-\\d{4}')\n",
    "\n",
    "# See if the pattern matches\n",
    "result = prog.match('123-456-7890')\n",
    "print(bool(result))\n",
    "\n",
    "# See if the pattern matches\n",
    "result2 = prog.match('1123-456-7890')\n",
    "print(bool(result2))\n"
   ]
  },
  {
   "cell_type": "markdown",
   "metadata": {},
   "source": [
    "<h1>Extracting numerical values from strings</h1>\n",
    "<div class=\"\"><p>Extracting numbers from strings is a common task, particularly when working with unstructured data or log files.</p>\n",
    "<p>Say you have the following string: <code>'the recipe calls for 6 strawberries and 2 bananas'</code>.</p>\n",
    "<p>It would be useful to extract the <code>6</code> and the <code>2</code> from this string to be saved for later use when comparing strawberry to banana ratios.</p>\n",
    "<p>When using a regular expression to extract multiple numbers (or multiple pattern matches, to be exact), you can use the <code>re.findall()</code> function. Dan did not discuss this in the video, but it is straightforward to use: You pass in a pattern and a string to <code>re.findall()</code>, and it will return a list of the matches.</p></div>"
   ]
  },
  {
   "cell_type": "code",
   "execution_count": 9,
   "metadata": {},
   "outputs": [
    {
     "name": "stdout",
     "output_type": "stream",
     "text": [
      "['10', '1']\n"
     ]
    }
   ],
   "source": [
    "# Import the regular expression module\n",
    "import re\n",
    "\n",
    "# Find the numeric values: matches\n",
    "matches = re.findall('\\d+', 'the recipe calls for 10 strawberries and 1 banana')\n",
    "\n",
    "# Print the matches\n",
    "print(matches)"
   ]
  },
  {
   "cell_type": "markdown",
   "metadata": {},
   "source": [
    "<h1>Pattern matching</h1>\n",
    "<div class=\"\"><p>In this exercise, you'll continue practicing your regular expression skills. For each provided string, your job is \n",
    "to write the appropriate pattern to match it.</p></div>\n",
    "\n",
    "<h2>Instructions</h2>\n",
    "<div class=\"exercise--instructions__content\"><ul>\n",
    "<li>Write patterns to match:<ul>\n",
    "<li>A telephone number of the format <code>xxx-xxx-xxxx</code>. You already did this in a previous exercise.</li>\n",
    "<li>A string of the format: A dollar sign, an arbitrary number of digits, a decimal point, 2 digits.<ul>\n",
    "<li>Use <code>\\$</code> to match the dollar sign, <code>\\d*</code> to match an arbitrary number of digits, <code>\\.</code> to match the decimal point, and <code>\\d{x}</code> to match <code>x</code> number of digits.</li></ul></li>\n",
    "<li>A capital letter, followed by an arbitrary number of alphanumeric characters.<ul>\n",
    "<li>Use <code>[A-Z]</code> to match any capital letter followed by <code>\\w*</code> to match an arbitrary number of alphanumeric characters.</li></ul></li></ul></li>\n",
    "</ul></div>"
   ]
  },
  {
   "cell_type": "code",
   "execution_count": 10,
   "metadata": {},
   "outputs": [
    {
     "name": "stdout",
     "output_type": "stream",
     "text": [
      "True\n",
      "True\n",
      "True\n"
     ]
    }
   ],
   "source": [
    "# Write the first pattern\n",
    "pattern1 = bool(re.match(pattern='\\d{3}-\\d{3}-\\d{4}', string='123-456-7890'))\n",
    "print(pattern1)\n",
    "\n",
    "# Write the second pattern\n",
    "pattern2 = bool(re.match(pattern='\\$\\d*.\\d{2}$', string='$123.45'))\n",
    "print(pattern2)\n",
    "\n",
    "# Write the third pattern\n",
    "pattern3 = bool(re.match(pattern='[A-Z]\\w*', string='Australia'))\n",
    "print(pattern3)"
   ]
  },
  {
   "cell_type": "markdown",
   "metadata": {},
   "source": [
    "<h1>Custom functions to clean data</h1>\n",
    "<div class=\"\"><p>You'll now practice writing functions to clean data. </p>\n",
    "<p>The tips dataset has been pre-loaded into a DataFrame called <code>tips</code>. It has a <code>'sex'</code> column that contains the values <code>'Male'</code> or <code>'Female'</code>. Your job is to write a function that will recode <code>'Female'</code> to <code>0</code>, <code>'Male'</code> to <code>1</code>, and return <code>np.nan</code> for all entries of <code>'sex'</code> that are neither <code>'Female'</code> nor <code>'Male'</code>. </p>\n",
    "<p>Recoding variables like this is a common data cleaning task. Functions provide a mechanism for you to abstract away complex bits of code as well as reuse code. This makes your code more readable and less error prone.</p>\n",
    "<p>As Dan showed you in the videos, you can use the <code>.apply()</code> method to <em>apply</em> a function across entire rows or columns of DataFrames. However, note that each column of a DataFrame is a pandas Series. Functions can also be applied across Series. Here, you will apply your function over the <code>'sex'</code> column.</p></div>\n",
    "\n",
    "<h2>Instructions</h2>\n",
    "<div class=\"exercise--instructions__content\"><ul>\n",
    "<li>Define a function named <code>recode_gender()</code> that has one parameter: <code>gender</code>.<ul>\n",
    "<li>If <code>gender</code> equals <code>'Female'</code>, return <code>0</code>.</li>\n",
    "<li>Else, if <code>gender</code> equals <code>'Male'</code>, return <code>1</code>.</li>\n",
    "<li>If <code>gender</code> does not equal <code>'Male'</code> or <code>'Female'</code>, return <code>np.nan</code>. NumPy has been pre-imported for you.</li></ul></li>\n",
    "<li>Apply your <code>recode_gender()</code> function over <code>tips.sex</code> using the <code>.apply()</code> method to create a new column: <code>'recode'</code>. Note that when passing in a function inside the <code>.apply()</code> method, you don't need to specify the parentheses after the function name.</li>\n",
    "<li>Hit 'Submit Answer' and take note of the new <code>'recode'</code> column in the <code>tips</code> DataFrame!</li>\n",
    "</ul></div>"
   ]
  },
  {
   "cell_type": "code",
   "execution_count": 11,
   "metadata": {},
   "outputs": [
    {
     "name": "stdout",
     "output_type": "stream",
     "text": [
      "   total_bill   tip     sex smoker  day    time  size  recode\n",
      "0       16.99  1.01  Female     No  Sun     NaN   2.0     0.0\n",
      "1       10.34  1.66    Male     No  Sun  Dinner   3.0     1.0\n",
      "2       21.01  3.50    Male     No  Sun  Dinner   3.0     1.0\n",
      "3       23.68  3.31    Male     No  Sun  Dinner   2.0     1.0\n",
      "4         NaN  3.61  Female     No  Sun  Dinner   4.0     0.0\n"
     ]
    }
   ],
   "source": [
    "# Define recode_gender()\n",
    "def recode_gender(gender):\n",
    "\n",
    "    # Return 0 if gender is 'Female'\n",
    "    if gender == 'Female':\n",
    "        return 0\n",
    "    \n",
    "    # Return 1 if gender is 'Male'    \n",
    "    elif gender == 'Male':\n",
    "        return 1\n",
    "    \n",
    "    # Return np.nan    \n",
    "    else:\n",
    "        return np.nan\n",
    "\n",
    "# Apply the function to the sex column\n",
    "tips['recode'] = tips.sex.apply(recode_gender)\n",
    "\n",
    "# Print the first five rows of tips\n",
    "print(tips.head())"
   ]
  },
  {
   "cell_type": "code",
   "execution_count": 12,
   "metadata": {},
   "outputs": [
    {
     "name": "stdout",
     "output_type": "stream",
     "text": [
      "   total_bill   tip     sex smoker  day    time  size  recode\n",
      "0       16.99  1.01  Female     No  Sun     NaN   2.0     0.0\n",
      "1       10.34  1.66    Male     No  Sun  Dinner   3.0     1.0\n",
      "2       21.01  3.50    Male     No  Sun  Dinner   3.0     1.0\n",
      "3       23.68  3.31    Male     No  Sun  Dinner   2.0     1.0\n",
      "4         NaN  3.61  Female     No  Sun  Dinner   4.0     0.0\n"
     ]
    }
   ],
   "source": [
    "# Define recode_gender()\n",
    "def recode_gender(row):\n",
    "    gen = row['sex']\n",
    "    # Return 0 if gender is 'Female'\n",
    "    if gen == 'Female':\n",
    "        return 0\n",
    "    \n",
    "    # Return 1 if gender is 'Male'    \n",
    "    elif gen == 'Male':\n",
    "        return 1\n",
    "    \n",
    "    # Return np.nan    \n",
    "    else:\n",
    "        return np.nan\n",
    "\n",
    "# Apply the function to the sex row wise\n",
    "tips['recode'] = tips.apply(recode_gender, axis=1)\n",
    "\n",
    "# Print the first five rows of tips\n",
    "print(tips.head())"
   ]
  },
  {
   "cell_type": "markdown",
   "metadata": {},
   "source": [
    "<h1>Lambda functions</h1>\n",
    "<div class=\"\"><p>You'll now be introduced to a powerful Python feature that will help you clean your data more effectively: lambda functions. Instead of using the <code>def</code> syntax that you used in the previous exercise, lambda functions let you make simple, one-line functions. </p>\n",
    "<p>For example, here's a function that squares a variable used in an <code>.apply()</code> method:</p>\n",
    "<pre><code>def my_square(x):\n",
    "    return x ** 2\n",
    "\n",
    "df.apply(my_square)\n",
    "</code></pre>\n",
    "<p>The equivalent code using a lambda function is:</p>\n",
    "<pre><code>df.apply(lambda x: x ** 2)\n",
    "</code></pre>\n",
    "<p>The lambda function takes one parameter - the variable <code>x</code>. The function itself just squares <code>x</code> and returns the result, which is whatever the one line of code evaluates to. In this way, lambda functions can make your code concise and Pythonic.</p>\n",
    "<p>The tips dataset has been pre-loaded into a DataFrame called <code>tips</code>. Your job is to clean its <code>'total_dollar'</code> column by removing the dollar sign. You'll do this using two different methods: With the <code>.replace()</code> method, and with regular expressions. The regular expression module <code>re</code> has been pre-imported.</p></div>\n",
    "\n",
    "<h2>Instructions</h2>\n",
    "<div class=\"exercise--instructions__content\"><ul>\n",
    "<li>Use the <code>.replace()</code> method inside a lambda function to remove the dollar sign from the <code>'total_dollar'</code> column of <code>tips</code>.<ul>\n",
    "<li>You need to specify two arguments to the <code>.replace()</code> method: The string to be replaced (<code>'$'</code>), and the string to replace it by (<code>''</code>).</li>\n",
    "<li>Apply the lambda function over the <code>'total_dollar'</code> column of <code>tips</code>.</li></ul></li>\n",
    "<li>Use a regular expression to remove the dollar sign from the <code>'total_dollar'</code> column of <code>tips</code>.<ul>\n",
    "<li>The pattern has been provided for you: It is the first argument of the <code>re.findall()</code> function.</li>\n",
    "<li>Complete the rest of the lambda function and apply it over the <code>'total_dollar'</code> column of <code>tips</code>. Notice that because <code>re.findall()</code> returns a list, you have to slice it (e.g. using <code>[0]</code>) in order to access the actual value.</li></ul></li>\n",
    "<li>Hit 'Submit Answer' to verify that you have removed the dollar sign from the column.</li>\n",
    "</ul></div>"
   ]
  },
  {
   "cell_type": "code",
   "execution_count": 15,
   "metadata": {},
   "outputs": [
    {
     "name": "stdout",
     "output_type": "stream",
     "text": [
      "   total_bill   tip     sex smoker  day    time  size total_dollar  \\\n",
      "0       16.99  1.01  Female     No  Sun  Dinner     2       $16.99   \n",
      "1       10.34  1.66    Male     No  Sun  Dinner     3       $10.34   \n",
      "2       21.01  3.50    Male     No  Sun  Dinner     3       $21.01   \n",
      "3       23.68  3.31    Male     No  Sun  Dinner     2       $23.68   \n",
      "4       24.59  3.61  Female     No  Sun  Dinner     4       $24.59   \n",
      "\n",
      "  total_dollar_replace total_dollar_re  \n",
      "0                16.99           16.99  \n",
      "1                10.34           10.34  \n",
      "2                21.01           21.01  \n",
      "3                23.68           23.68  \n",
      "4                24.59           24.59  \n"
     ]
    }
   ],
   "source": [
    "tips = pd.read_csv('tips3.csv', index_col=0)\n",
    "\n",
    "# Write the lambda function using replace\n",
    "tips['total_dollar_replace'] = tips.total_dollar.apply(lambda x: x.replace('$', ''))\n",
    "\n",
    "# Write the lambda function using regular expressions\n",
    "tips['total_dollar_re'] = tips.total_dollar.apply(lambda x: re.findall('\\d+\\.\\d+', x)[0])\n",
    "\n",
    "# Print the head of tips\n",
    "print(tips.head())\n"
   ]
  },
  {
   "cell_type": "markdown",
   "metadata": {},
   "source": [
    "<h1>Dropping duplicate data</h1>\n",
    "<div class=\"\"><p>Duplicate data causes a variety of problems. From the point of view of performance,\n",
    "they use up unnecessary amounts of memory and cause unneeded calculations to be performed when processing data.\n",
    "In addition, they can also bias any analysis results.</p>\n",
    "<p>A dataset consisting of the performance of songs on the Billboard charts has been pre-loaded into a DataFrame called <code>billboard</code>. Check out its columns in the IPython Shell. Your job in this exercise is to subset this DataFrame and then drop all duplicate rows.</p></div>\n",
    "\n",
    "<h2>Instructions</h2>\n",
    "<div class=\"exercise--instructions__content\"><ul>\n",
    "<li>Create a new DataFrame called <code>tracks</code> that contains the following columns from <code>billboard</code>: <code>'year'</code>, <code>'artist'</code>, <code>'track'</code>, and <code>'time'</code>.</li>\n",
    "<li>Print the <code>info</code> of <code>tracks</code>. This has been done for you.</li>\n",
    "<li>Drop duplicate rows from <code>tracks</code> using the <code>.drop_duplicates()</code> method. Save the result to <code>tracks_no_duplicates</code>.</li>\n",
    "<li>Print the <code>info</code> of <code>tracks_no_duplicates</code>. This has been done for you, so hit 'Submit Answer' to see the results!</li>\n",
    "</ul></div>"
   ]
  },
  {
   "cell_type": "code",
   "execution_count": 18,
   "metadata": {},
   "outputs": [
    {
     "name": "stdout",
     "output_type": "stream",
     "text": [
      "   year        artist                    track  time date.entered week  rank\n",
      "0  2000       2Ge+her  The Hardest Part Of ...  3:15   2000-09-02  wk1  91.0\n",
      "1  2000         2 Pac           Baby Don't Cry  4:22   2000-02-26  wk1  87.0\n",
      "2  2000  3 Doors Down               Kryptonite  3:53   2000-04-08  wk1  81.0\n",
      "3  2000  3 Doors Down                    Loser  4:24   2000-10-21  wk1  76.0\n",
      "4  2000      504 Boyz            Wobble Wobble  3:35   2000-04-15  wk1  57.0\n",
      "<class 'pandas.core.frame.DataFrame'>\n",
      "Int64Index: 24092 entries, 0 to 24091\n",
      "Data columns (total 4 columns):\n",
      "year      24092 non-null int64\n",
      "artist    24092 non-null object\n",
      "track     24092 non-null object\n",
      "time      24092 non-null object\n",
      "dtypes: int64(1), object(3)\n",
      "memory usage: 941.1+ KB\n",
      "None\n",
      "<class 'pandas.core.frame.DataFrame'>\n",
      "Int64Index: 317 entries, 0 to 316\n",
      "Data columns (total 4 columns):\n",
      "year      317 non-null int64\n",
      "artist    317 non-null object\n",
      "track     317 non-null object\n",
      "time      317 non-null object\n",
      "dtypes: int64(1), object(3)\n",
      "memory usage: 12.4+ KB\n",
      "None\n"
     ]
    }
   ],
   "source": [
    "billboard = pd.read_csv('billboard.csv', index_col=0)\n",
    "print(billboard.head())\n",
    "# Create the new DataFrame: tracks\n",
    "tracks = billboard[['year', 'artist', 'track', 'time']]\n",
    "\n",
    "# Print info of tracks\n",
    "print(tracks.info())\n",
    "\n",
    "# Drop the duplicates: tracks_no_duplicates\n",
    "tracks_no_duplicates = tracks.drop_duplicates()\n",
    "\n",
    "# Print info of tracks\n",
    "print(tracks_no_duplicates.info())"
   ]
  },
  {
   "cell_type": "markdown",
   "metadata": {},
   "source": [
    "<h1>Filling missing data</h1>\n",
    "<div class=\"\"><p>Here, you'll return to the <code>airquality</code> dataset from Chapter 2. It has been pre-loaded into the DataFrame <code>airquality</code>, and it has\n",
    "missing values for you to practice filling in. Explore <code>airquality</code> in the IPython Shell to checkout which columns have missing values.</p>\n",
    "<p>It's rare to have a (real-world) dataset without any missing values, and it's\n",
    "important to deal with them because certain calculations cannot handle missing values while some calculations will, by default, skip over any missing values.</p>\n",
    "<p>Also, understanding how much missing data you have, and thinking about where it comes from is crucial\n",
    "to making unbiased interpretations of data.</p></div>\n",
    "\n",
    "<h2>Instructions:</h2>\n",
    "<div class=\"exercise--instructions__content\"><ul>\n",
    "<li>Calculate the mean of the <code>Ozone</code> column of <code>airquality</code> using the <code>.mean()</code> method on <code>airquality.Ozone</code>.</li>\n",
    "<li>Use the <code>.fillna()</code> method to replace all the missing values in the <code>Ozone</code> column of <code>airquality</code> with the mean, <code>oz_mean</code>.</li>\n",
    "<li>Hit 'Submit Answer' to see the result of filling in the missing values!</li>\n",
    "</ul></div>"
   ]
  },
  {
   "cell_type": "code",
   "execution_count": 19,
   "metadata": {},
   "outputs": [
    {
     "name": "stdout",
     "output_type": "stream",
     "text": [
      "   Ozone  Solar.R  Wind  Temp  Month  Day\n",
      "0    NaN    190.0   7.4    67      5    1\n",
      "1   36.0    118.0   8.0    72      5    2\n",
      "2   12.0    149.0  12.6    74      5    3\n",
      "3   18.0    313.0  11.5    62      5    4\n",
      "4    NaN      NaN  14.3    56      5    5\n",
      "<class 'pandas.core.frame.DataFrame'>\n",
      "Int64Index: 153 entries, 0 to 152\n",
      "Data columns (total 6 columns):\n",
      "Ozone      85 non-null float64\n",
      "Solar.R    146 non-null float64\n",
      "Wind       153 non-null float64\n",
      "Temp       153 non-null int64\n",
      "Month      153 non-null int64\n",
      "Day        153 non-null int64\n",
      "dtypes: float64(3), int64(3)\n",
      "memory usage: 8.4 KB\n",
      "None\n",
      "<class 'pandas.core.frame.DataFrame'>\n",
      "Int64Index: 153 entries, 0 to 152\n",
      "Data columns (total 6 columns):\n",
      "Ozone      153 non-null float64\n",
      "Solar.R    146 non-null float64\n",
      "Wind       153 non-null float64\n",
      "Temp       153 non-null int64\n",
      "Month      153 non-null int64\n",
      "Day        153 non-null int64\n",
      "dtypes: float64(3), int64(3)\n",
      "memory usage: 8.4 KB\n",
      "None\n"
     ]
    }
   ],
   "source": [
    "airquality = pd.read_csv('airquality.csv', index_col=0)\n",
    "print(airquality.head())\n",
    "print(airquality.info())\n",
    "\n",
    "# Calculate the mean of the Ozone column: oz_mean\n",
    "oz_mean = np.mean(airquality.Ozone)\n",
    "\n",
    "# Replace all the missing values in the Ozone column with the mean\n",
    "airquality['Ozone'] = airquality.fillna(oz_mean)\n",
    "\n",
    "# Print the info of airquality\n",
    "print(airquality.info())"
   ]
  },
  {
   "cell_type": "markdown",
   "metadata": {},
   "source": [
    "<h1>Testing your data with asserts</h1>\n",
    "<div class=\"\"><p>Here, you'll practice writing assert statements using the Ebola dataset from previous chapters to programmatically check for missing values and to confirm that all values are positive. The dataset has been pre-loaded into a DataFrame called <code>ebola</code>.</p>\n",
    "<p>In the video, you saw Dan use the <code>.all()</code> method together with the <code>.notnull()</code> DataFrame method to check for missing values in a column. The <code>.all()</code> method returns <code>True</code> if all values are <code>True</code>. When used on a DataFrame, it returns a Series of Booleans - one for each column in the DataFrame. So if you are using it on a DataFrame, like in this exercise, you need to chain another <code>.all()</code> method so that you return only one <code>True</code> or <code>False</code> value. When using these within an assert statement, nothing will be returned if the assert statement is true: This is how you can confirm that the data you are checking are valid.</p>\n",
    "<p>Note: You can use <code>pd.notnull(df)</code> as an alternative to <code>df.notnull()</code>.</p></div>\n",
    "\n",
    "<h2>Instructions:</h2>\n",
    "<div class=\"exercise--instructions__content\"><ul>\n",
    "<li>Write an assert statement to confirm that there are no missing values in <code>ebola</code>.<ul>\n",
    "<li>Use the <code>pd.notnull()</code> function on <code>ebola</code> (or the <code>.notnull()</code> method of <code>ebola</code>) and chain two <code>.all()</code> methods (that is, <code>.all().all()</code>). The first <code>.all()</code> method will return a <code>True</code> or <code>False</code> for each column, while the second <code>.all()</code> method will return a single <code>True</code> or <code>False</code>.</li></ul></li>\n",
    "<li>Write an assert statement to confirm that all values in <code>ebola</code> are greater than or equal to <code>0</code>.<ul>\n",
    "<li>Chain two <code>all()</code> methods to the Boolean condition (<code>ebola &gt;= 0)</code>.</li></ul></li>\n",
    "</ul></div>"
   ]
  },
  {
   "cell_type": "code",
   "execution_count": 30,
   "metadata": {},
   "outputs": [
    {
     "name": "stdout",
     "output_type": "stream",
     "text": [
      "<class 'pandas.core.frame.DataFrame'>\n",
      "Int64Index: 122 entries, 0 to 121\n",
      "Data columns (total 18 columns):\n",
      "Date                   122 non-null object\n",
      "Day                    122 non-null int64\n",
      "Cases_Guinea           122 non-null float64\n",
      "Cases_Liberia          122 non-null float64\n",
      "Cases_SierraLeone      122 non-null float64\n",
      "Cases_Nigeria          122 non-null float64\n",
      "Cases_Senegal          122 non-null float64\n",
      "Cases_UnitedStates     122 non-null float64\n",
      "Cases_Spain            122 non-null float64\n",
      "Cases_Mali             122 non-null float64\n",
      "Deaths_Guinea          122 non-null float64\n",
      "Deaths_Liberia         122 non-null float64\n",
      "Deaths_SierraLeone     122 non-null float64\n",
      "Deaths_Nigeria         122 non-null float64\n",
      "Deaths_Senegal         122 non-null float64\n",
      "Deaths_UnitedStates    122 non-null float64\n",
      "Deaths_Spain           122 non-null float64\n",
      "Deaths_Mali            122 non-null float64\n",
      "dtypes: float64(16), int64(1), object(1)\n",
      "memory usage: 18.1+ KB\n",
      "None\n"
     ]
    }
   ],
   "source": [
    "ebola = pd.read_csv('ebola.csv', index_col=0)\n",
    "\n",
    "print(ebola.info())\n",
    "\n",
    "# Assert that there are no missing values\n",
    "assert pd.notnull(ebola).all().all()\n",
    "\n",
    "# Assert that all values are >= 0\n",
    "#assert (ebola >= 0).all().all()"
   ]
  },
  {
   "cell_type": "code",
   "execution_count": null,
   "metadata": {},
   "outputs": [],
   "source": []
  }
 ],
 "metadata": {
  "kernelspec": {
   "display_name": "Python 3",
   "language": "python",
   "name": "python3"
  },
  "language_info": {
   "codemirror_mode": {
    "name": "ipython",
    "version": 3
   },
   "file_extension": ".py",
   "mimetype": "text/x-python",
   "name": "python",
   "nbconvert_exporter": "python",
   "pygments_lexer": "ipython3",
   "version": "3.7.4"
  }
 },
 "nbformat": 4,
 "nbformat_minor": 2
}
