{
 "cells": [
  {
   "cell_type": "code",
   "execution_count": 32,
   "metadata": {},
   "outputs": [],
   "source": [
    "import pandas as pd\n",
    "import numpy as np"
   ]
  },
  {
   "cell_type": "markdown",
   "metadata": {},
   "source": [
    "<h1>Exploratory analysis</h1>\n",
    "<div class=\"\"><p>Whenever you obtain a new dataset, your first task should always be to do some exploratory analysis\n",
    "to get a better understanding of the data and diagnose it for any potential issues.</p>\n",
    "<p>The Gapminder data for the 19th century has been loaded into a DataFrame called <code>g1800s</code>. In the IPython Shell, use pandas methods such as <code>.head()</code>, <code>.info()</code>, and <code>.describe()</code>, and DataFrame attributes like <code>.columns</code> and <code>.shape</code> to explore it.</p>\n",
    "<p>Use the information that you acquire from your exploratory analysis to choose the <strong>true</strong> statement from the options provided below.</p></div>"
   ]
  },
  {
   "cell_type": "code",
   "execution_count": 33,
   "metadata": {},
   "outputs": [
    {
     "name": "stdout",
     "output_type": "stream",
     "text": [
      "         Life expectancy   1800   1801   1802   1803   1804   1805   1806  \\\n",
      "0               Abkhazia    NaN    NaN    NaN    NaN    NaN    NaN    NaN   \n",
      "1            Afghanistan  28.21  28.20  28.19  28.18  28.17  28.16  28.15   \n",
      "2  Akrotiri and Dhekelia    NaN    NaN    NaN    NaN    NaN    NaN    NaN   \n",
      "3                Albania  35.40  35.40  35.40  35.40  35.40  35.40  35.40   \n",
      "4                Algeria  28.82  28.82  28.82  28.82  28.82  28.82  28.82   \n",
      "\n",
      "    1807   1808  ...   1890   1891   1892   1893   1894   1895   1896   1897  \\\n",
      "0    NaN    NaN  ...    NaN    NaN    NaN    NaN    NaN    NaN    NaN    NaN   \n",
      "1  28.14  28.13  ...  27.29  27.28  27.27  27.26  27.25  27.24  27.23  27.22   \n",
      "2    NaN    NaN  ...    NaN    NaN    NaN    NaN    NaN    NaN    NaN    NaN   \n",
      "3  35.40  35.40  ...  35.40  35.40  35.40  35.40  35.40  35.40  35.40  35.40   \n",
      "4  28.82  28.82  ...  28.82  28.82  28.82  28.82  28.82  28.82  28.82  28.82   \n",
      "\n",
      "    1898   1899  \n",
      "0    NaN    NaN  \n",
      "1  27.21  27.20  \n",
      "2    NaN    NaN  \n",
      "3  35.40  35.40  \n",
      "4  28.82  28.82  \n",
      "\n",
      "[5 rows x 101 columns]\n",
      "<class 'pandas.core.frame.DataFrame'>\n",
      "Int64Index: 260 entries, 0 to 259\n",
      "Columns: 101 entries, Life expectancy to 1899\n",
      "dtypes: float64(100), object(1)\n",
      "memory usage: 207.2+ KB\n",
      "None\n",
      "Index(['Life expectancy', '1800', '1801', '1802', '1803', '1804', '1805',\n",
      "       '1806', '1807', '1808',\n",
      "       ...\n",
      "       '1890', '1891', '1892', '1893', '1894', '1895', '1896', '1897', '1898',\n",
      "       '1899'],\n",
      "      dtype='object', length=101)\n",
      "             1800        1801        1802        1803        1804        1805  \\\n",
      "count  201.000000  201.000000  201.000000  201.000000  201.000000  201.000000   \n",
      "mean    31.486020   31.448905   31.463483   31.377413   31.446318   31.562537   \n",
      "std      3.763585    3.755739    3.878204    3.901966    3.877156    3.947957   \n",
      "min     23.390000   23.390000   23.390000   19.600000   23.390000   23.390000   \n",
      "25%     29.000000   28.950000   28.900000   28.900000   28.950000   29.000000   \n",
      "50%     31.800000   31.700000   31.600000   31.500000   31.600000   31.700000   \n",
      "75%     33.900000   33.900000   33.900000   33.800000   33.870000   33.900000   \n",
      "max     42.850000   40.300000   44.370000   44.840000   42.830000   44.270000   \n",
      "\n",
      "             1806        1807        1808        1809  ...        1890  \\\n",
      "count  201.000000  201.000000  201.000000  201.000000  ...  201.000000   \n",
      "mean    31.615970   31.573134   31.376766   31.310448  ...   32.291045   \n",
      "std      4.039261    3.917339    4.017228    3.972970  ...    5.907298   \n",
      "min     23.390000   23.390000   12.480000   13.430000  ...    4.000000   \n",
      "25%     29.000000   29.000000   28.950000   28.820000  ...   29.200000   \n",
      "50%     31.800000   31.800000   31.600000   31.500000  ...   32.000000   \n",
      "75%     34.000000   34.000000   33.870000   33.800000  ...   35.000000   \n",
      "max     45.820000   43.560000   43.550000   41.740000  ...   50.480000   \n",
      "\n",
      "             1891        1892        1893        1894        1895        1896  \\\n",
      "count  201.000000  201.000000  201.000000  201.000000  201.000000  201.000000   \n",
      "mean    32.475373   32.478408   32.533085   32.747214   32.811841   32.895224   \n",
      "std      5.734794    5.825318    6.018269    5.822354    6.067020    6.344388   \n",
      "min      8.000000   14.000000    8.000000   22.180000   22.000000   20.000000   \n",
      "25%     29.200000   29.000000   29.000000   29.200000   29.200000   29.000000   \n",
      "50%     32.000000   32.000000   32.000000   32.000000   32.000000   32.000000   \n",
      "75%     35.100000   35.000000   35.000000   35.000000   35.000000   35.000000   \n",
      "max     51.090000   52.730000   52.580000   52.100000   54.160000   53.840000   \n",
      "\n",
      "             1897        1898        1899  \n",
      "count  201.000000  201.000000  201.000000  \n",
      "mean    32.964279   32.994080   32.962985  \n",
      "std      6.390669    6.336805    6.325265  \n",
      "min     19.000000   19.700000   18.900000  \n",
      "25%     29.200000   29.160000   29.000000  \n",
      "50%     32.000000   32.000000   32.000000  \n",
      "75%     35.000000   35.180000   35.180000  \n",
      "max     54.140000   54.690000   51.620000  \n",
      "\n",
      "[8 rows x 100 columns]\n",
      "(260, 101)\n"
     ]
    }
   ],
   "source": [
    "g1800s = pd.read_csv('g1880s.csv', index_col=0)\n",
    "print(g1800s.head())\n",
    "print(g1800s.info())\n",
    "print(g1800s.columns)\n",
    "print(g1800s.describe())\n",
    "print(g1800s.shape)"
   ]
  },
  {
   "cell_type": "markdown",
   "metadata": {},
   "source": [
    "<h1>Visualizing your data</h1>\n",
    "<div class=\"\"><p>Since 1800, life expectancy around the globe has been steadily going up. You would expect the Gapminder data to confirm this. </p>\n",
    "<p>The DataFrame <code>g1800s</code> has been pre-loaded. Your job in this exercise is to create a scatter plot with life expectancy in <code>'1800'</code> on the x-axis and life expectancy in <code>'1899'</code> on the y-axis.</p>\n",
    "<p>Here, the goal is to visually check the data for insights as well as errors. When looking at the plot, pay attention to whether the scatter plot takes the form of a diagonal line, and which points fall below or above the diagonal line. This will inform how life expectancy in 1899 changed (or did not change) compared to 1800 for different countries. If points fall on a diagonal line, it means that life expectancy remained the same!</p></div>\n",
    "\n",
    "<h2>Instructions:</h2>\n",
    "<div class=\"exercise--instructions__content\"><ul>\n",
    "<li>Import <code>matplotlib.pyplot</code> as <code>plt</code>.</li>\n",
    "<li>Use the <code>.plot()</code> method on <code>g1800s</code> with <code>kind='scatter'</code> to create a scatter plot with <code>'1800'</code> on the x-axis and <code>'1899'</code> on the y-axis.</li>\n",
    "<li>Display the plot.</li>\n",
    "</ul></div>"
   ]
  },
  {
   "cell_type": "code",
   "execution_count": 34,
   "metadata": {},
   "outputs": [
    {
     "data": {
      "image/png": "[encoded data removed]",
      "text/plain": [
       "<Figure size 432x288 with 1 Axes>"
      ]
     },
     "metadata": {
      "needs_background": "light"
     },
     "output_type": "display_data"
    }
   ],
   "source": [
    "# Import matplotlib.pyplot\n",
    "import matplotlib.pyplot as plt\n",
    "\n",
    "# Create the scatter plot\n",
    "g1800s.plot(kind='scatter', x='1800', y='1899')\n",
    "\n",
    "# Specify axis labels\n",
    "plt.xlabel('Life Expectancy by Country in 1800')\n",
    "plt.ylabel('Life Expectancy by Country in 1899')\n",
    "\n",
    "# Specify axis limits\n",
    "plt.xlim(20, 55)\n",
    "plt.ylim(20, 55)\n",
    "\n",
    "# Display the plot\n",
    "plt.show()"
   ]
  },
  {
   "cell_type": "markdown",
   "metadata": {},
   "source": [
    "<h1>Thinking about the question at hand</h1>\n",
    "<div class=\"\"><p>Since you are given life expectancy level data by country and year, you could ask questions about how much the average life expectancy changes over each year.</p>\n",
    "<p>Before continuing, however, it's important to make sure that the following assumptions about the data are true:</p>\n",
    "<ul>\n",
    "<li><code>'Life expectancy'</code> is the first column (index <code>0</code>) of the DataFrame.</li>\n",
    "<li>The other columns contain either null or numeric values.</li>\n",
    "<li>The numeric values are all greater than or equal to 0.</li>\n",
    "<li>There is only one instance of each country.</li>\n",
    "</ul>\n",
    "<p>You can write a function that you can apply over the entire DataFrame to verify some of these assumptions. Note that spending the time to write such a script will help you when working with other datasets as well.</p></div>\n",
    "\n",
    "<h2>Instructions:</h2>\n",
    "<div class=\"exercise--instructions__content\"><ul>\n",
    "<li>Define a function called <code>check_null_or_valid()</code> that takes in one argument: <code>row_data</code>.</li>\n",
    "<li>Inside the function, convert <code>no_na</code> to a numeric data type using <code>pd.to_numeric()</code>.</li>\n",
    "<li>Write an <code>assert</code> statement to make sure the first column (index <code>0</code>) of the <code>g1800s</code> DataFrame is <code>'Life expectancy'</code>.</li>\n",
    "<li>Write an <code>assert</code> statement to test that all the values are valid for the <code>g1800s</code> DataFrame. Use the <code>check_null_or_valid()</code> function placed inside the <code>.apply()</code> method for this. <ul>\n",
    "<li>Note that because you're applying it over the entire DataFrame, and not just one column, you'll have to chain the <code>.all()</code> method twice.</li>\n",
    "<li>Remember that you <strong>don't</strong> have to use <code>()</code> for functions placed inside <code>.apply()</code>.</li></ul></li>\n",
    "<li>Write an <code>assert</code> statement to make sure that each country occurs only once in the data. Use the <code>.value_counts()</code> method on the <code>'Life expectancy'</code> column for this. Specifically, index <code>0</code> of <code>.value_counts()</code> will contain the most frequently occurring value. If this is equal to <code>1</code> for the <code>'Life expectancy'</code> column, then you can be certain that no country appears more than once in the data.</li>\n",
    "</ul></div>"
   ]
  },
  {
   "cell_type": "code",
   "execution_count": 35,
   "metadata": {},
   "outputs": [],
   "source": [
    "def check_null_or_valid(row_data):\n",
    "    \"\"\"Function that takes a row of data,\n",
    "    drops all missing values,\n",
    "    and checks if all remaining values are greater than or equal to 0\n",
    "    \"\"\"\n",
    "    no_na = row_data.dropna()\n",
    "    numeric = pd.to_numeric(no_na)\n",
    "    ge0 = numeric >= 0\n",
    "    return ge0\n",
    "\n",
    "# Check whether the first column is 'Life expectancy'\n",
    "assert g1800s.columns[0] == 'Life expectancy'\n",
    "\n",
    "# Check whether the values in the row are valid\n",
    "assert g1800s.iloc[:, 1:].apply(check_null_or_valid, axis=1).all().all()\n",
    "\n",
    "# Check that there is only one instance of each country\n",
    "assert g1800s['Life expectancy'].value_counts()[0] == 1\n"
   ]
  },
  {
   "cell_type": "markdown",
   "metadata": {},
   "source": [
    "<h1>Assembling your data</h1>\n",
    "<div class=\"\"><p>Here, three DataFrames have been pre-loaded: <code>g1800s</code>, <code>g1900s</code>, and <code>g2000s</code>. These contain the Gapminder life expectancy data for, respectively, the 19th century, the 20th century, and the 21st century.</p>\n",
    "<p>Your task in this exercise is to concatenate them into a single DataFrame called <code>gapminder</code>. This is a column-wise concatenation, similar to how you concatenated the Ebola dataset with information about patients in Chapter 3.</p></div>\n",
    "\n",
    "<h2>Instructions:</h2>\n",
    "<div class=\"exercise--instructions__content\"><ul>\n",
    "<li>Use <code>pd.concat()</code> to concatenate <code>g1800s</code>, <code>g1900s</code>, and <code>g2000s</code> along the column axis into one DataFrame called <code>gapminder</code>. Make sure you pass DataFrames to <code>pd.concat()</code> in the form of a list.</li>\n",
    "<li>Print the shape and the head of the concatenated DataFrame.</li>\n",
    "</ul></div>"
   ]
  },
  {
   "cell_type": "code",
   "execution_count": 36,
   "metadata": {},
   "outputs": [
    {
     "name": "stdout",
     "output_type": "stream",
     "text": [
      "(260, 220)\n",
      "         Life expectancy   1800   1801   1802   1803   1804   1805   1806  \\\n",
      "0               Abkhazia    NaN    NaN    NaN    NaN    NaN    NaN    NaN   \n",
      "1            Afghanistan  28.21  28.20  28.19  28.18  28.17  28.16  28.15   \n",
      "2  Akrotiri and Dhekelia    NaN    NaN    NaN    NaN    NaN    NaN    NaN   \n",
      "3                Albania  35.40  35.40  35.40  35.40  35.40  35.40  35.40   \n",
      "4                Algeria  28.82  28.82  28.82  28.82  28.82  28.82  28.82   \n",
      "\n",
      "    1807   1808  ...  2007  2008  2009  2010  2011  2012  2013  2014  2015  \\\n",
      "0    NaN    NaN  ...   NaN   NaN   NaN   NaN   NaN   NaN   NaN   NaN   NaN   \n",
      "1  28.14  28.13  ...  52.4  52.8  53.3  53.6  54.0  54.4  54.8  54.9  53.8   \n",
      "2    NaN    NaN  ...   NaN   NaN   NaN   NaN   NaN   NaN   NaN   NaN   NaN   \n",
      "3  35.40  35.40  ...  76.6  76.8  77.0  77.2  77.4  77.5  77.7  77.9  78.0   \n",
      "4  28.82  28.82  ...  75.3  75.5  75.7  76.0  76.1  76.2  76.3  76.3  76.4   \n",
      "\n",
      "    2016  \n",
      "0    NaN  \n",
      "1  52.72  \n",
      "2    NaN  \n",
      "3  78.10  \n",
      "4  76.50  \n",
      "\n",
      "[5 rows x 220 columns]\n"
     ]
    }
   ],
   "source": [
    "g1900s = pd.read_csv('g1900s.csv', index_col=0)\n",
    "g2000s = pd.read_csv('g2000s.csv', index_col=0)\n",
    "\n",
    "# Concatenate the DataFrames column-wise\n",
    "gapminder = pd.concat([g1800s, g1900s, g2000s], axis=1)\n",
    "\n",
    "# Print the shape of gapminder\n",
    "print(gapminder.shape)\n",
    "\n",
    "# Print the head of gapminder\n",
    "print(gapminder.head())"
   ]
  },
  {
   "cell_type": "markdown",
   "metadata": {},
   "source": [
    "<h1>Reshaping your data</h1>\n",
    "<div class=\"\"><p>Now that you have all the data combined into a single DataFrame, the next step is to reshape it into a <em>tidy</em> data format.</p>\n",
    "<p>Currently, the gapminder DataFrame has a separate column for each year. What you want instead is a single column that contains the year, and a single column that represents the average life expectancy for each year and country. By having year in its own column, you can use it as a predictor variable in a later analysis.</p>\n",
    "<p>You can convert the DataFrame into the desired tidy format by <em>melting</em> it.</p></div>\n",
    "\n",
    "<h2>Instructions:</h2>\n",
    "<div class=\"exercise--instructions__content\"><ul>\n",
    "<li>Reshape <code>gapminder</code> by melting it. Keep <code>'Life expectancy'</code> fixed by specifying it as an argument to the <code>id_vars</code> parameter.</li>\n",
    "<li>Rename the three columns of the melted DataFrame to <code>'country'</code>, <code>'year'</code>, and <code>'life_expectancy'</code> by passing them in as a list to <code>gapminder_melt.columns</code>.</li>\n",
    "<li>Print the head of the melted DataFrame.</li>\n",
    "</ul></div>"
   ]
  },
  {
   "cell_type": "code",
   "execution_count": 37,
   "metadata": {},
   "outputs": [
    {
     "name": "stdout",
     "output_type": "stream",
     "text": [
      "    1800   1801   1802   1803   1804   1805   1806   1807   1808   1809  ...  \\\n",
      "0    NaN    NaN    NaN    NaN    NaN    NaN    NaN    NaN    NaN    NaN  ...   \n",
      "1  28.21  28.20  28.19  28.18  28.17  28.16  28.15  28.14  28.13  28.12  ...   \n",
      "2    NaN    NaN    NaN    NaN    NaN    NaN    NaN    NaN    NaN    NaN  ...   \n",
      "3  35.40  35.40  35.40  35.40  35.40  35.40  35.40  35.40  35.40  35.40  ...   \n",
      "4  28.82  28.82  28.82  28.82  28.82  28.82  28.82  28.82  28.82  28.82  ...   \n",
      "\n",
      "   2008  2009  2010  2011  2012  2013  2014  2015  2016        Life expectancy  \n",
      "0   NaN   NaN   NaN   NaN   NaN   NaN   NaN   NaN   NaN               Abkhazia  \n",
      "1   NaN   NaN   NaN   NaN   NaN   NaN   NaN   NaN   NaN            Afghanistan  \n",
      "2   NaN   NaN   NaN   NaN   NaN   NaN   NaN   NaN   NaN  Akrotiri and Dhekelia  \n",
      "3   NaN   NaN   NaN   NaN   NaN   NaN   NaN   NaN   NaN                Albania  \n",
      "4   NaN   NaN   NaN   NaN   NaN   NaN   NaN   NaN   NaN                Algeria  \n",
      "\n",
      "[5 rows x 218 columns]\n",
      "                 country  year  life_expectancy\n",
      "0               Abkhazia  1800              NaN\n",
      "1            Afghanistan  1800            28.21\n",
      "2  Akrotiri and Dhekelia  1800              NaN\n",
      "3                Albania  1800            35.40\n",
      "4                Algeria  1800            28.82\n"
     ]
    }
   ],
   "source": [
    "gapminder = pd.read_csv('gapminder.csv', index_col=0)\n",
    "print(gapminder.head())\n",
    "# Melt gapminder: gapminder_melt\n",
    "gapminder_melt = pd.melt(frame=gapminder, id_vars='Life expectancy')\n",
    "\n",
    "# Rename the columns\n",
    "gapminder_melt.columns = ['country', 'year', 'life_expectancy']\n",
    "\n",
    "# Print the head of gapminder_melt\n",
    "print(gapminder_melt.head())"
   ]
  },
  {
   "cell_type": "markdown",
   "metadata": {},
   "source": [
    "<h1>Checking the data types</h1>\n",
    "<div class=\"\"><p>Now that your data are in the proper shape, you need to ensure that the columns are of the proper data type. That is, you need to ensure\n",
    "that <code>country</code> is of type <code>object</code>, <code>year</code> is of type <code>int64</code>, and <code>life_expectancy</code> is of type <code>float64</code>.</p>\n",
    "<p>The tidy DataFrame has been pre-loaded as <code>gapminder</code>. Explore it in the IPython Shell using the <code>.info()</code> method. Notice that\n",
    "the column <code>'year'</code> is of type <code>object</code>. This is incorrect, so you'll need to use the <code>pd.to_numeric()</code> function to convert it to a numeric data type.</p>\n",
    "<p>NumPy and pandas have been pre-imported as <code>np</code> and <code>pd</code>.</p></div>\n",
    "\n",
    "<h2>Instructions:</h2>\n",
    "<div class=\"exercise--instructions__content\"><ul>\n",
    "<li>Convert the <code>year</code> column of <code>gapminder</code> using <code>pd.to_numeric()</code>.</li>\n",
    "<li>Assert that the <code>country</code> column is of type <code>np.object</code>. This has been done for you.</li>\n",
    "<li>Assert that the <code>year</code> column is of type <code>np.int64</code>.</li>\n",
    "<li>Assert that the <code>life_expectancy</code> column is of type <code>np.float64</code>.</li>\n",
    "</ul></div>"
   ]
  },
  {
   "cell_type": "code",
   "execution_count": 38,
   "metadata": {},
   "outputs": [
    {
     "name": "stdout",
     "output_type": "stream",
     "text": [
      "<class 'pandas.core.frame.DataFrame'>\n",
      "Int64Index: 169260 entries, 0 to 169259\n",
      "Data columns (total 3 columns):\n",
      "country            169260 non-null object\n",
      "year               169260 non-null int64\n",
      "life_expectancy    43857 non-null float64\n",
      "dtypes: float64(1), int64(1), object(1)\n",
      "memory usage: 5.2+ MB\n",
      "None\n"
     ]
    }
   ],
   "source": [
    "gapminder = pd.read_csv('gapminder2.csv', index_col=0)\n",
    "print(gapminder.info())"
   ]
  },
  {
   "cell_type": "code",
   "execution_count": 39,
   "metadata": {},
   "outputs": [],
   "source": [
    "# Convert the year column to numeric\n",
    "gapminder.year = pd.to_numeric(gapminder.year)\n",
    "\n",
    "# Test if country is of type object\n",
    "assert gapminder.country.dtypes == np.object\n",
    "\n",
    "# Test if year is of type int64\n",
    "assert gapminder.year.dtypes == np.int64\n",
    "\n",
    "# Test if life_expectancy is of type float64\n",
    "assert gapminder.life_expectancy.dtypes == np.float64\n"
   ]
  },
  {
   "cell_type": "markdown",
   "metadata": {},
   "source": [
    "<h1>Looking at country spellings</h1>\n",
    "<div class=\"\"><p>Having tidied your DataFrame and checked the data types, your next task in the data cleaning process is to look at the <code>'country'</code> column\n",
    "to see if there are any special or invalid characters you may need to deal with.</p>\n",
    "<p>It is reasonable to assume that country names will contain:</p>\n",
    "<ul>\n",
    "<li>The set of lower and upper case letters.</li>\n",
    "<li>Spaces between words.</li>\n",
    "<li>Periods for any abbreviations.</li>\n",
    "</ul>\n",
    "<p>To confirm that this is the case, you can leverage the power of regular expressions again. For common operations like this, Pandas has a built-in string method - <code>str.contains()</code> - which takes a regular expression pattern, and applies it to the Series, returning\n",
    "<code>True</code> if there is a match, and <code>False</code> otherwise.</p>\n",
    "<p>Since here you want to find the values that do <em>not</em> match, you have to invert the boolean, which can be done using <code>~</code>. This Boolean series\n",
    "can then be used to get the Series of countries that have invalid names.</p>\n",
    "<p><code>pandas</code> is loaded and <code>gapminder</code> is available.</p></div>\n",
    "\n",
    "\n",
    "<h2>Instructions:</h2>\n",
    "<div class=\"exercise--instructions__content\"><p>Using the <code>country</code> column of <code>gapminder</code>, drop the duplicate names, then locate the countries that do not contain only one or more (lower and upper case) letters, spaces, and periods. Assign this to <code>invalid_countries</code> and print.</p></div>"
   ]
  },
  {
   "cell_type": "code",
   "execution_count": 40,
   "metadata": {},
   "outputs": [
    {
     "name": "stdout",
     "output_type": "stream",
     "text": [
      "49              Congo, Dem. Rep.\n",
      "50                   Congo, Rep.\n",
      "53                 Cote d'Ivoire\n",
      "73        Falkland Is (Malvinas)\n",
      "93                 Guinea-Bissau\n",
      "98              Hong Kong, China\n",
      "118    United Korea (former)\\r\\n\n",
      "131                 Macao, China\n",
      "132               Macedonia, FYR\n",
      "145        Micronesia, Fed. Sts.\n",
      "161              Ngorno-Karabakh\n",
      "187               St. Barthélemy\n",
      "193       St.-Pierre-et-Miquelon\n",
      "225                  Timor-Leste\n",
      "251        Virgin Islands (U.S.)\n",
      "252         North Yemen (former)\n",
      "253         South Yemen (former)\n",
      "258                        Åland\n",
      "Name: country, dtype: object\n"
     ]
    }
   ],
   "source": [
    "# Print invalid_countries, a list of countries that doesn't \n",
    "# contain only letters, periods, and spaces\n",
    "countries = gapminder.country\n",
    "\n",
    "countries = countries.drop_duplicates()\n",
    "\n",
    "pattern = '^[A-Za-z\\.\\s]*$'\n",
    "\n",
    "invalid_countries = countries.loc[~countries.str.contains(pattern)]\n",
    "\n",
    "print(invalid_countries)"
   ]
  },
  {
   "cell_type": "markdown",
   "metadata": {},
   "source": [
    "<h1>More data cleaning and processing</h1>\n",
    "<div class=\"\"><p>It's now time to deal with the missing data. There are several strategies for this: You can drop them, fill them in using the mean of the column or row that the missing value is in (also known as <a href=\"https://en.wikipedia.org/wiki/Imputation_(statistics)\" target=\"_blank\" rel=\"noopener noreferrer\">imputation</a>), or, if you are dealing with time series data, use a forward fill or backward fill, in which you replace missing values in a column with the most recent known value in the column. See <a href=\"https://www.datacamp.com/courses/pandas-foundations\" target=\"_blank\" rel=\"noopener noreferrer\">pandas Foundations</a> for more on forward fill and backward fill.</p>\n",
    "<p>In general, it is not the best idea to drop missing values, because in doing so you may end up throwing away useful information. In this data, the missing values refer to years where no estimate for life expectancy is available for a given country. You could fill in, or guess what these life expectancies could be by looking at the average life expectancies for other countries in that year, for example. Whichever strategy you go with, it is important to carefully consider all options and understand how they will affect your data.</p>\n",
    "<p>In this exercise, you'll practice dropping missing values. Your job is to drop all the rows that have <code>NaN</code> in the <code>life_expectancy</code> column. Before doing so, it would be valuable to use assert statements to confirm that <code>year</code> and <code>country</code> do not have any missing values.</p>\n",
    "<p>Begin by printing the shape of <code>gapminder</code> in the IPython Shell prior to dropping the missing values. Complete the exercise to find out what its shape will be <em>after</em> dropping the missing values!</p></div>\n",
    "\n",
    "<h2>Instructions:</h2>\n",
    "<div class=\"exercise--instructions__content\"><ul>\n",
    "<li>Assert that <code>country</code> and <code>year</code> do not contain any missing values. The first assert statement has been written for you. Note the chaining of the <code>.all()</code> method to <code>pd.notnull()</code> to confirm that <em>all</em> values in the column are not null.</li>\n",
    "<li>Drop the rows in the data where <em>any</em> observation in <code>life_expectancy</code> is missing. As you confirmed that <code>country</code>\n",
    "and <code>year</code> don't have missing values, you can use the <code>.dropna()</code> method on the <em>entire</em> <code>gapminder</code> DataFrame, because any missing values would have to be in the <code>life_expectancy</code> column. The <code>.dropna()</code> method has the default keyword arguments <code>axis=0</code> and <code>how='any'</code>, which specify that <em>rows</em> with <em>any</em> missing values should be dropped.</li>\n",
    "<li>Print the shape of <code>gapminder</code>.</li>\n",
    "</ul></div>"
   ]
  },
  {
   "cell_type": "code",
   "execution_count": 41,
   "metadata": {},
   "outputs": [
    {
     "name": "stdout",
     "output_type": "stream",
     "text": [
      "(169260, 3)\n",
      "(43857, 3)\n"
     ]
    }
   ],
   "source": [
    "# Assert that country does not contain any missing values\n",
    "assert pd.notnull(gapminder.country).all()\n",
    "\n",
    "# Assert that year does not contain any missing values\n",
    "assert pd.notnull(gapminder.year).all()\n",
    "\n",
    "print(gapminder.shape)\n",
    "\n",
    "# Drop the missing values\n",
    "gapminder = gapminder.dropna()\n",
    "\n",
    "# Print the shape of gapminder\n",
    "print(gapminder.shape)"
   ]
  },
  {
   "cell_type": "markdown",
   "metadata": {},
   "source": [
    "<h1>Wrapping up</h1>\n",
    "<div class=\"\"><p>Now that you have a clean and tidy dataset, you can do a bit of visualization and aggregation.\n",
    "In this exercise, you'll begin by creating a histogram of the <code>life_expectancy</code> column.\n",
    "You should not get any values under 0 and you should see something reasonable on the higher end of the <code>life_expectancy</code> age range.</p>\n",
    "<p>Your next task is to investigate how average life expectancy changed over the years.\n",
    "To do this, you need to subset the data by each year, get the <code>life_expectancy</code> column from each subset, and take an average of the values.\n",
    "You can achieve this using the <a href=\"http://pandas.pydata.org/pandas-docs/stable/generated/pandas.DataFrame.groupby.html\" target=\"_blank\" rel=\"noopener noreferrer\"><code>.groupby()</code> method</a>. This\n",
    "<code>.groupby()</code> method is covered in greater depth in <a href=\"https://www.datacamp.com/courses/manipulating-dataframes-with-pandas\" target=\"_blank\" rel=\"noopener noreferrer\">Manipulating DataFrames with pandas</a>.</p>\n",
    "<p>Finally, you can save your tidy and summarized DataFrame to a file using the <code>.to_csv()</code> method.</p>\n",
    "<p>matplotlib.pyplot and pandas have been pre-imported as <code>plt</code> and <code>pd</code>. Go for it!</p></div>\n",
    "\n",
    "<h2>Instructions:</h2>\n",
    "<div class=\"exercise--instructions__content\"><ul>\n",
    "<li>Create a histogram of the <code>life_expectancy</code> column using the <code>.plot()</code> method of <code>gapminder</code>. Specify <code>kind='hist'</code>.</li>\n",
    "<li>Group <code>gapminder</code> by <code>'year'</code> and aggregate <code>'life_expectancy'</code> by the mean. To do this:<ul>\n",
    "<li>Use the <code>.groupby()</code> method on <code>gapminder</code> with <code>'year'</code> as the argument. Then select <code>'life_expectancy'</code> and chain the <code>.mean()</code> method to it.</li></ul></li>\n",
    "<li>Print the head and tail of <code>gapminder_agg</code>. This has been done for you.</li>\n",
    "<li>Create a line plot of average life expectancy per year by using the <code>.plot()</code> method (without any arguments in plot) on <code>gapminder_agg</code>.</li>\n",
    "<li>Save <code>gapminder</code> and <code>gapminder_agg</code> to csv files called <code>'gapminder.csv'</code> and <code>'gapminder_agg.csv'</code>, respectively, using the <code>.to_csv()</code> method.</li>\n",
    "</ul></div>"
   ]
  },
  {
   "cell_type": "code",
   "execution_count": 42,
   "metadata": {},
   "outputs": [
    {
     "name": "stdout",
     "output_type": "stream",
     "text": [
      "year\n",
      "1800    31.486020\n",
      "1801    31.448905\n",
      "1802    31.463483\n",
      "1803    31.377413\n",
      "1804    31.446318\n",
      "Name: life_expectancy, dtype: float64\n",
      "year\n",
      "2012    71.663077\n",
      "2013    71.916106\n",
      "2014    72.088125\n",
      "2015    72.321010\n",
      "2016    72.556635\n",
      "Name: life_expectancy, dtype: float64\n"
     ]
    },
    {
     "data": {
      "image/png": "[encoded data removed]",
      "text/plain": [
       "<Figure size 432x288 with 2 Axes>"
      ]
     },
     "metadata": {
      "needs_background": "light"
     },
     "output_type": "display_data"
    }
   ],
   "source": [
    "# Add first subplot\n",
    "plt.subplot(2, 1, 1) \n",
    "\n",
    "# Create a histogram of life_expectancy\n",
    "gapminder.life_expectancy.plot(kind='hist')\n",
    "\n",
    "# Group gapminder: gapminder_agg\n",
    "gapminder_agg = gapminder.groupby('year')['life_expectancy'].mean()\n",
    "\n",
    "# Print the head of gapminder_agg\n",
    "print(gapminder_agg.head())\n",
    "\n",
    "# Print the tail of gapminder_agg\n",
    "print(gapminder_agg.tail())\n",
    "\n",
    "# Add second subplot\n",
    "plt.subplot(2, 1, 2)\n",
    "\n",
    "# Create a line plot of life expectancy per year\n",
    "gapminder_agg.plot()\n",
    "\n",
    "# Add title and specify axis labels\n",
    "plt.title('Life expectancy over the years')\n",
    "plt.ylabel('Life expectancy')\n",
    "plt.xlabel('Year')\n",
    "\n",
    "# Display the plots\n",
    "plt.tight_layout()\n",
    "plt.show()\n",
    "\n",
    "# Save both DataFrames to csv files\n",
    "#gapminder.to_csv('gapminder.csv')\n",
    "#gapminder_agg.to_csv('gapminder_agg.csv')"
   ]
  },
  {
   "cell_type": "code",
   "execution_count": null,
   "metadata": {},
   "outputs": [],
   "source": []
  }
 ],
 "metadata": {
  "kernelspec": {
   "display_name": "Python 3",
   "language": "python",
   "name": "python3"
  },
  "language_info": {
   "codemirror_mode": {
    "name": "ipython",
    "version": 3
   },
   "file_extension": ".py",
   "mimetype": "text/x-python",
   "name": "python",
   "nbconvert_exporter": "python",
   "pygments_lexer": "ipython3",
   "version": "3.7.4"
  }
 },
 "nbformat": 4,
 "nbformat_minor": 2
}
