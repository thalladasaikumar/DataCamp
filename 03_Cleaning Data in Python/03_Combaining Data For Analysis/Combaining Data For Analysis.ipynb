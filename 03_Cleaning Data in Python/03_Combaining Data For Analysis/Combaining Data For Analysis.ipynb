{
 "cells": [
  {
   "cell_type": "code",
   "execution_count": 5,
   "metadata": {},
   "outputs": [],
   "source": [
    "import pandas as pd\n",
    "import numpy as npv"
   ]
  },
  {
   "cell_type": "code",
   "execution_count": 6,
   "metadata": {},
   "outputs": [],
   "source": [
    "uber1 = pd.read_csv('uber1.csv', index_col=0)\n",
    "uber2 = pd.read_csv('uber2.csv', index_col=0)\n",
    "uber3 = pd.read_csv('uber3.csv', index_col=0)"
   ]
  },
  {
   "cell_type": "markdown",
   "metadata": {},
   "source": [
    "<h1>Combining rows of data</h1>\n",
    "<div class=\"\"><p>The dataset you'll be working with here relates to <a href=\"http://data.beta.nyc/dataset/uber-trip-data-foiled-apr-sep-2014\" target=\"_blank\" rel=\"noopener noreferrer\">NYC Uber data</a>.\n",
    "The original dataset has all the originating Uber pickup locations by time and latitude and longitude.\n",
    "For didactic purposes, you'll be working with a very small portion of the actual data.</p>\n",
    "<p>Three DataFrames have been pre-loaded: <code>uber1</code>, which contains data for April 2014, <code>uber2</code>, which contains data for May 2014, and <code>uber3</code>, which contains data for June 2014. Your job in this exercise\n",
    "is to concatenate these DataFrames together such that the resulting DataFrame has the data for all three months.</p>\n",
    "<p>Begin by exploring the structure of these three DataFrames in the IPython Shell using methods such as <code>.head()</code>.</p></div>"
   ]
  },
  {
   "cell_type": "code",
   "execution_count": 7,
   "metadata": {},
   "outputs": [
    {
     "name": "stdout",
     "output_type": "stream",
     "text": [
      "(297, 4)\n",
      "          Date/Time      Lat      Lon    Base\n",
      "0  4/1/2014 0:11:00  40.7690 -73.9549  B02512\n",
      "1  4/1/2014 0:17:00  40.7267 -74.0345  B02512\n",
      "2  4/1/2014 0:21:00  40.7316 -73.9873  B02512\n",
      "3  4/1/2014 0:28:00  40.7588 -73.9776  B02512\n",
      "4  4/1/2014 0:33:00  40.7594 -73.9722  B02512\n"
     ]
    }
   ],
   "source": [
    "# Concatenate uber1, uber2, and uber3: row_concat\n",
    "row_concat = pd.concat([uber1, uber2, uber3],)\n",
    "\n",
    "# Print the shape of row_concat\n",
    "print(row_concat.shape)\n",
    "\n",
    "# Print the head of row_concat\n",
    "print(row_concat.head())"
   ]
  },
  {
   "cell_type": "markdown",
   "metadata": {},
   "source": [
    "<h1>Combining columns of data</h1>\n",
    "<div class=\"\"><p>Think of column-wise concatenation of data as stitching data together from the sides instead of the top and bottom.\n",
    "To perform this action, you use the same <code>pd.concat()</code> function, but this time with the keyword argument <code>axis=1</code>. The default, <code>axis=0</code>, is for a row-wise concatenation.</p>\n",
    "<p>You'll return to the <a href=\"https://data.humdata.org/dataset/ebola-cases-2014\" target=\"_blank\" rel=\"noopener noreferrer\">Ebola dataset</a> you worked with briefly in the last chapter. It has been pre-loaded into\n",
    "a DataFrame called <code>ebola_melt</code>. In this DataFrame, the status and country of a patient is contained in a single column. \n",
    "This column has been parsed into a new DataFrame, <code>status_country</code>, where there are separate columns for status and country. </p>\n",
    "<p>Explore the <code>ebola_melt</code> and <code>status_country</code> DataFrames in the IPython Shell. Your job is to concatenate them column-wise in order to obtain a final, clean DataFrame.</p></div>"
   ]
  },
  {
   "cell_type": "code",
   "execution_count": 13,
   "metadata": {},
   "outputs": [
    {
     "name": "stdout",
     "output_type": "stream",
     "text": [
      "(1952, 6)\n",
      "         Date  Day status_country  counts status country\n",
      "0    1/5/2015  289   Cases_Guinea  2776.0  Cases  Guinea\n",
      "1    1/4/2015  288   Cases_Guinea  2775.0  Cases  Guinea\n",
      "2    1/3/2015  287   Cases_Guinea  2769.0  Cases  Guinea\n",
      "3    1/2/2015  286   Cases_Guinea     NaN  Cases  Guinea\n",
      "4  12/31/2014  284   Cases_Guinea  2730.0  Cases  Guinea\n"
     ]
    }
   ],
   "source": [
    "ebola_melt = pd.read_csv('ebola_melt.csv', index_col=0)\n",
    "status_country = pd.read_csv('status_country.csv', index_col=0)\n",
    "\n",
    "# Concatenate ebola_melt and status_country column-wise: ebola_tidy\n",
    "ebola_tidy = pd.concat([ebola_melt, status_country], axis=1)\n",
    "\n",
    "# Print the shape of ebola_tidy\n",
    "print(ebola_tidy.shape)\n",
    "\n",
    "# Print the head of ebola_tidy\n",
    "print(ebola_tidy.head())"
   ]
  },
  {
   "cell_type": "markdown",
   "metadata": {},
   "source": [
    "<h1>Finding files that match a pattern</h1>\n",
    "<div class=\"\"><p>You're now going to practice using the <code>glob</code> module to find all csv files in the workspace. In the next exercise, you'll programmatically load them into DataFrames.</p>\n",
    "<p>As Dan showed you in the video, the <code>glob</code> module has a function called <code>glob</code> that takes a pattern and returns a list of the files in the working directory that match that pattern.</p>\n",
    "<p>For example, if you know the pattern is <code>part_</code> <code>single digit number</code> <code>.csv</code>, you can write the pattern as <code>'part_?.csv'</code> (which would match <code>part_1.csv</code>, <code>part_2.csv</code>, <code>part_3.csv</code>, etc.)</p>\n",
    "<p>Similarly, you can find all <code>.csv</code> files with <code>'*.csv'</code>, or all parts with <code>'part_*'</code>. The <code>?</code> wildcard represents any 1 character, and the <code>*</code> wildcard represents any number of characters.</p></div>"
   ]
  },
  {
   "cell_type": "code",
   "execution_count": 15,
   "metadata": {},
   "outputs": [
    {
     "name": "stdout",
     "output_type": "stream",
     "text": [
      "['uber1.csv', 'uber2.csv', 'uber3.csv']\n",
      "          Date/Time      Lat      Lon    Base\n",
      "0  5/1/2014 0:02:00  40.7521 -73.9914  B02512\n",
      "1  5/1/2014 0:06:00  40.6965 -73.9715  B02512\n",
      "2  5/1/2014 0:15:00  40.7464 -73.9838  B02512\n",
      "3  5/1/2014 0:17:00  40.7463 -74.0011  B02512\n",
      "4  5/1/2014 0:17:00  40.7594 -73.9734  B02512\n"
     ]
    }
   ],
   "source": [
    "# Import necessary modules\n",
    "import glob\n",
    "\n",
    "# Write the pattern: pattern\n",
    "pattern = 'uber?.csv'\n",
    "\n",
    "# Save all file matches: csv_files\n",
    "csv_files = glob.glob(pattern)\n",
    "\n",
    "# Print the file names\n",
    "print(csv_files)\n",
    "\n",
    "# Load the second file into a DataFrame: csv2\n",
    "csv2 = pd.read_csv(csv_files[1], index_col=0)\n",
    "\n",
    "# Print the head of csv2\n",
    "print(csv2.head())"
   ]
  },
  {
   "cell_type": "markdown",
   "metadata": {},
   "source": [
    "<h1>Iterating and concatenating all matches</h1>\n",
    "<div class=\"\"><p>Now that you have a list of filenames to load,\n",
    "you can load all the files into a list of DataFrames that can then be concatenated.</p>\n",
    "<p>You'll start with an empty list called <code>frames</code>. Your job is to use a <code>for</code> loop\n",
    "to:</p>\n",
    "<ol>\n",
    "<li>iterate through each of the filenames</li>\n",
    "<li>read each filename into a DataFrame, and then</li>\n",
    "<li>append it to the <code>frames</code> list.</li>\n",
    "</ol>\n",
    "<p>You can then concatenate this list of DataFrames using <code>pd.concat()</code>. Go for it!</p></div>"
   ]
  },
  {
   "cell_type": "code",
   "execution_count": 17,
   "metadata": {},
   "outputs": [
    {
     "name": "stdout",
     "output_type": "stream",
     "text": [
      "(297, 4)\n",
      "          Date/Time      Lat      Lon    Base\n",
      "0  4/1/2014 0:11:00  40.7690 -73.9549  B02512\n",
      "1  4/1/2014 0:17:00  40.7267 -74.0345  B02512\n",
      "2  4/1/2014 0:21:00  40.7316 -73.9873  B02512\n",
      "3  4/1/2014 0:28:00  40.7588 -73.9776  B02512\n",
      "4  4/1/2014 0:33:00  40.7594 -73.9722  B02512\n"
     ]
    }
   ],
   "source": [
    "# Create an empty list: frames\n",
    "frames = []\n",
    "\n",
    "#  Iterate over csv_files\n",
    "for csv in csv_files:\n",
    "\n",
    "    #  Read csv into a DataFrame: df\n",
    "    df = pd.read_csv(csv, index_col=0)\n",
    "    \n",
    "    # Append df to frames\n",
    "    frames.append(df)\n",
    "\n",
    "# Concatenate frames into a single DataFrame: uber\n",
    "uber = pd.concat(frames)\n",
    "\n",
    "# Print the shape of uber\n",
    "print(uber.shape)\n",
    "\n",
    "# Print the head of uber\n",
    "print(uber.head())\n"
   ]
  },
  {
   "cell_type": "markdown",
   "metadata": {},
   "source": [
    "<h1>1-to-1 data merge</h1>\n",
    "<div class=\"\"><p>Merging data allows you to combine disparate datasets into a single dataset to do more complex analysis.</p>\n",
    "<p>Here, you'll be using survey data that contains readings that William Dyer, Frank Pabodie, and Valentina Roerich took in the late 1920s and 1930s while they were on an expedition towards Antarctica.\n",
    "The dataset was taken from a sqlite database from the <a href=\"http://swcarpentry.github.io/sql-novice-survey/\" target=\"_blank\" rel=\"noopener noreferrer\">Software Carpentry SQL lesson</a>. </p>\n",
    "<p>Two DataFrames have been pre-loaded: <code>site</code> and <code>visited</code>. Explore them in the IPython Shell and take note of their structure and column names. Your task is to perform a 1-to-1 merge of these two DataFrames using\n",
    "the <code>'name'</code> column of <code>site</code> and the <code>'site'</code> column of <code>visited</code>.</p></div>"
   ]
  },
  {
   "cell_type": "code",
   "execution_count": 20,
   "metadata": {},
   "outputs": [
    {
     "name": "stdout",
     "output_type": "stream",
     "text": [
      "    name    lat    long  ident   site       dated\n",
      "0   DR-1 -49.85 -128.57    619   DR-1  1927-02-08\n",
      "1   DR-3 -47.15 -126.72    734   DR-3  1939-01-07\n",
      "2  MSK-4 -48.87 -123.40    837  MSK-4  1932-01-14\n"
     ]
    }
   ],
   "source": [
    "site = pd.read_csv('site.csv', index_col=0)\n",
    "visited = pd.read_csv('visited.csv', index_col=0)\n",
    "# Merge the DataFrames: o2o\n",
    "o2o = pd.merge(left=site, right=visited, on=None, left_on='name', right_on='site')\n",
    "\n",
    "# Print o2o\n",
    "print(o2o)"
   ]
  },
  {
   "cell_type": "markdown",
   "metadata": {},
   "source": [
    "<h1>Many-to-1 data merge</h1>\n",
    "<div class=\"\"><p>In a many-to-one (or one-to-many) merge, one of the values will be duplicated and recycled in the output.\n",
    "That is, one of the keys in the merge is not unique. </p>\n",
    "<p>Here, the two DataFrames <code>site</code> and <code>visited</code> have been pre-loaded once again.\n",
    "Note that this time, <code>visited</code> has multiple entries for the <code>site</code> column. Confirm this by exploring it in the IPython Shell.</p>\n",
    "<p>The <code>.merge()</code> method call is the same as the 1-to-1 merge from the previous exercise, but the data and output will be different.</p></div>"
   ]
  },
  {
   "cell_type": "code",
   "execution_count": 23,
   "metadata": {},
   "outputs": [
    {
     "name": "stdout",
     "output_type": "stream",
     "text": [
      "    name    lat    long  ident   site       dated\n",
      "0   DR-1 -49.85 -128.57    619   DR-1  1927-02-08\n",
      "1   DR-1 -49.85 -128.57    622   DR-1  1927-02-10\n",
      "2   DR-1 -49.85 -128.57    844   DR-1  1932-03-22\n",
      "3   DR-3 -47.15 -126.72    734   DR-3  1939-01-07\n",
      "4   DR-3 -47.15 -126.72    735   DR-3  1930-01-12\n",
      "5   DR-3 -47.15 -126.72    751   DR-3  1930-02-26\n",
      "6   DR-3 -47.15 -126.72    752   DR-3         NaN\n",
      "7  MSK-4 -48.87 -123.40    837  MSK-4  1932-01-14\n"
     ]
    }
   ],
   "source": [
    "site = pd.read_csv('site.csv', index_col=0)\n",
    "visited = pd.read_csv('visited2.csv', index_col=0)\n",
    "# Merge the DataFrames: m2o\n",
    "m2o = pd.merge(left=site, right=visited, left_on='name', right_on='site')\n",
    "\n",
    "# Print m2o\n",
    "print(m2o)"
   ]
  },
  {
   "cell_type": "markdown",
   "metadata": {},
   "source": [
    "<h1>Many-to-many data merge</h1>\n",
    "<div class=\"\"><p>The final merging scenario occurs when both DataFrames do not have unique keys for a merge.\n",
    "What happens here is that for each duplicated key, every pairwise combination will be created.</p>\n",
    "<p>Two example DataFrames that share common key values have been pre-loaded: <code>df1</code> and <code>df2</code>. Another DataFrame <code>df3</code>,\n",
    "which is the result of <code>df1</code> merged with <code>df2</code>, has been pre-loaded. All three DataFrames have been \n",
    "printed - look at the output and notice how pairwise combinations have been created. This example is to help you\n",
    "develop your intuition for many-to-many merges.</p>\n",
    "<p>Here, you'll work with the <code>site</code> and <code>visited</code> DataFrames from before, and a new <code>survey</code> DataFrame. Your task\n",
    "is to merge <code>site</code> and <code>visited</code> as you did in the earlier exercises. You will then merge this merged DataFrame with <code>survey</code>.</p>\n",
    "<p>The <code>survey</code>, <code>visited</code>, and <code>site</code> DataFrames are available.</p></div>"
   ]
  },
  {
   "cell_type": "code",
   "execution_count": 27,
   "metadata": {},
   "outputs": [
    {
     "name": "stdout",
     "output_type": "stream",
     "text": [
      "    taken person quant  reading  ident   site       dated   name    lat  \\\n",
      "0     619   dyer   rad     9.82    619   DR-1  1927-02-08   DR-1 -49.85   \n",
      "1     619   dyer   sal     0.13    619   DR-1  1927-02-08   DR-1 -49.85   \n",
      "2     622   dyer   rad     7.80    622   DR-1  1927-02-10   DR-1 -49.85   \n",
      "3     622   dyer   sal     0.09    622   DR-1  1927-02-10   DR-1 -49.85   \n",
      "4     844    roe   rad    11.25    844   DR-1  1932-03-22   DR-1 -49.85   \n",
      "5     734     pb   rad     8.41    734   DR-3  1939-01-07   DR-3 -47.15   \n",
      "6     734   lake   sal     0.05    734   DR-3  1939-01-07   DR-3 -47.15   \n",
      "7     734     pb  temp   -21.50    734   DR-3  1939-01-07   DR-3 -47.15   \n",
      "8     735     pb   rad     7.22    735   DR-3  1930-01-12   DR-3 -47.15   \n",
      "9     735    NaN   sal     0.06    735   DR-3  1930-01-12   DR-3 -47.15   \n",
      "10    735    NaN  temp   -26.00    735   DR-3  1930-01-12   DR-3 -47.15   \n",
      "11    751     pb   rad     4.35    751   DR-3  1930-02-26   DR-3 -47.15   \n",
      "12    751     pb  temp   -18.50    751   DR-3  1930-02-26   DR-3 -47.15   \n",
      "13    751   lake   sal     0.10    751   DR-3  1930-02-26   DR-3 -47.15   \n",
      "14    752   lake   rad     2.19    752   DR-3         NaN   DR-3 -47.15   \n",
      "15    752   lake   sal     0.09    752   DR-3         NaN   DR-3 -47.15   \n",
      "16    752   lake  temp   -16.00    752   DR-3         NaN   DR-3 -47.15   \n",
      "17    752    roe   sal    41.60    752   DR-3         NaN   DR-3 -47.15   \n",
      "18    837   lake   rad     1.46    837  MSK-4  1932-01-14  MSK-4 -48.87   \n",
      "19    837   lake   sal     0.21    837  MSK-4  1932-01-14  MSK-4 -48.87   \n",
      "20    837    roe   sal    22.50    837  MSK-4  1932-01-14  MSK-4 -48.87   \n",
      "\n",
      "      long  \n",
      "0  -128.57  \n",
      "1  -128.57  \n",
      "2  -128.57  \n",
      "3  -128.57  \n",
      "4  -128.57  \n",
      "5  -126.72  \n",
      "6  -126.72  \n",
      "7  -126.72  \n",
      "8  -126.72  \n",
      "9  -126.72  \n",
      "10 -126.72  \n",
      "11 -126.72  \n",
      "12 -126.72  \n",
      "13 -126.72  \n",
      "14 -126.72  \n",
      "15 -126.72  \n",
      "16 -126.72  \n",
      "17 -126.72  \n",
      "18 -123.40  \n",
      "19 -123.40  \n",
      "20 -123.40  \n"
     ]
    }
   ],
   "source": [
    "survey = pd.read_csv('survey.csv', index_col=0)\n",
    "site = pd.read_csv('site.csv', index_col=0)\n",
    "visited = pd.read_csv('visited2.csv', index_col=0)\n",
    "# Merge survey, visited and site to a single data frame\n",
    "# of surveys with visit and site details\n",
    "m2o = pd.merge(left=survey, right=visited, left_on='taken', right_on='ident')\n",
    "\n",
    "m2m = pd.merge(left=m2o, right=site, left_on='site', right_on='name')\n",
    "\n",
    "print(m2m)"
   ]
  },
  {
   "cell_type": "code",
   "execution_count": null,
   "metadata": {},
   "outputs": [],
   "source": []
  }
 ],
 "metadata": {
  "kernelspec": {
   "display_name": "Python 3",
   "language": "python",
   "name": "python3"
  },
  "language_info": {
   "codemirror_mode": {
    "name": "ipython",
    "version": 3
   },
   "file_extension": ".py",
   "mimetype": "text/x-python",
   "name": "python",
   "nbconvert_exporter": "python",
   "pygments_lexer": "ipython3",
   "version": "3.7.4"
  }
 },
 "nbformat": 4,
 "nbformat_minor": 2
}
