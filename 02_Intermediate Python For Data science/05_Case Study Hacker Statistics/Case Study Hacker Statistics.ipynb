{
 "cells": [
  {
   "cell_type": "markdown",
   "metadata": {},
   "source": [
    "<h1>Random float</h1>\n",
    "<div class=\"\"><p>Randomness has many uses in science, art, statistics, cryptography, gaming, gambling, and other fields. You're going to use randomness to simulate a game.</p>\n",
    "<p>All the functionality you need is contained in the <code>random</code> package, a sub-package of <code>numpy</code>. In this exercise, you'll be using two functions from this package:</p>\n",
    "<ul>\n",
    "<li><a href=\"http://docs.scipy.org/doc/numpy-1.10.1/reference/generated/numpy.random.seed.html\" target=\"_blank\" rel=\"noopener noreferrer\"><code>seed()</code></a>: sets the random seed, so that your results are reproducible between simulations. As an argument, it takes an integer of your choosing. If you call the function, no output will be generated.</li>\n",
    "<li><a href=\"http://docs.scipy.org/doc/numpy-1.10.1/reference/generated/numpy.random.rand.html\" target=\"_blank\" rel=\"noopener noreferrer\"><code>rand()</code></a>: if you don't specify any arguments, it generates a random float between zero and one.</li>\n",
    "</ul></div>"
   ]
  },
  {
   "cell_type": "code",
   "execution_count": 1,
   "metadata": {},
   "outputs": [
    {
     "name": "stdout",
     "output_type": "stream",
     "text": [
      "0.6964691855978616\n"
     ]
    }
   ],
   "source": [
    "# Import numpy as np\n",
    "import numpy as np\n",
    "\n",
    "# Set the seed\n",
    "np.random.seed(123)\n",
    "\n",
    "# Generate and print random float\n",
    "print(np.random.rand())"
   ]
  },
  {
   "cell_type": "markdown",
   "metadata": {},
   "source": [
    "<h1>Roll the dice</h1>\n",
    "<div class=\"\"><p>In the previous exercise, you used <a href=\"http://docs.scipy.org/doc/numpy-1.10.1/reference/generated/numpy.random.rand.html\" target=\"_blank\" rel=\"noopener noreferrer\"><code>rand()</code></a>, that generates a random float between 0 and 1.</p>\n",
    "<p>As Filip explained in the video you can just as well use <a href=\"http://docs.scipy.org/doc/numpy-1.10.1/reference/generated/numpy.random.randint.html\" target=\"_blank\" rel=\"noopener noreferrer\"><code>randint()</code></a>, also a function of the <code>random</code> package, to generate integers randomly. The following call generates the integer 4, 5, 6 or 7 randomly. <strong>8 is not included</strong>.</p>\n",
    "<pre><code>import numpy as np\n",
    "np.random.randint(4, 8)\n",
    "</code></pre>\n",
    "<p>Numpy has already been imported as <code>np</code> and a seed has been set. Can you roll some dice?</p></div>"
   ]
  },
  {
   "cell_type": "code",
   "execution_count": 2,
   "metadata": {},
   "outputs": [
    {
     "name": "stdout",
     "output_type": "stream",
     "text": [
      "6\n",
      "3\n"
     ]
    }
   ],
   "source": [
    "# Import numpy and set seed\n",
    "import numpy as np\n",
    "np.random.seed(123)\n",
    "\n",
    "# Use randint() to simulate a dice\n",
    "print(np.random.randint(1,7))\n",
    "\n",
    "# Use randint() again\n",
    "print(np.random.randint(1,7))"
   ]
  },
  {
   "cell_type": "markdown",
   "metadata": {},
   "source": [
    "<h1>Determine your next move</h1>\n",
    "<div class=\"\"><p>In the Empire State Building bet, your next move depends on the number of eyes you throw with the dice. We can perfectly code this with an <code>if</code>-<code>elif</code>-<code>else</code> construct!</p>\n",
    "<p>The sample code assumes that you're currently at step 50. Can you fill in the missing pieces to finish the script? <code>numpy</code> is already imported as <code>np</code> and the seed has been set to <code>123</code>, so you don't have to worry about that anymore.</p></div>"
   ]
  },
  {
   "cell_type": "code",
   "execution_count": 3,
   "metadata": {},
   "outputs": [
    {
     "name": "stdout",
     "output_type": "stream",
     "text": [
      "6\n",
      "53\n"
     ]
    }
   ],
   "source": [
    "# Numpy is imported, seed is set\n",
    "import numpy as np\n",
    "np.random.seed(123)\n",
    "# Starting step\n",
    "step = 50\n",
    "\n",
    "# Roll the dice\n",
    "dice = np.random.randint(1,7)\n",
    "\n",
    "# Finish the control construct\n",
    "if dice <= 2 :\n",
    "    step = step - 1\n",
    "elif dice <=5 :\n",
    "    tep = step + 1\n",
    "else :\n",
    "    step = step + np.random.randint(1,7)\n",
    "\n",
    "# Print out dice and step\n",
    "print(dice)\n",
    "print(step)"
   ]
  },
  {
   "cell_type": "code",
   "execution_count": null,
   "metadata": {},
   "outputs": [],
   "source": []
  }
 ],
 "metadata": {
  "kernelspec": {
   "display_name": "Python 3",
   "language": "python",
   "name": "python3"
  },
  "language_info": {
   "codemirror_mode": {
    "name": "ipython",
    "version": 3
   },
   "file_extension": ".py",
   "mimetype": "text/x-python",
   "name": "python",
   "nbconvert_exporter": "python",
   "pygments_lexer": "ipython3",
   "version": "3.7.4"
  }
 },
 "nbformat": 4,
 "nbformat_minor": 2
}
