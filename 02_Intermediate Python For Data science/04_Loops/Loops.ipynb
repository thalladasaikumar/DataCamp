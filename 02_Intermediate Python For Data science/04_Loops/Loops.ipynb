{
 "cells": [
  {
   "cell_type": "markdown",
   "metadata": {},
   "source": [
    "<h1>Basic while loop</h1>\n",
    "<div class=\"\"><p>Below you can find the example from the video where the <code>error</code> variable, initially equal to <code>50.0</code>, is divided by 4 and printed out on every run:</p>\n",
    "<pre><code>error = 50.0\n",
    "while error &gt; 1 :\n",
    "    error = error / 4\n",
    "    print(error)\n",
    "</code></pre>\n",
    "<p>This example will come in handy, because it's time to build a <code>while</code> loop yourself! We're going to code a <code>while</code> loop that implements a very basic control system for an <a href=\"https://en.wikipedia.org/wiki/Inverted_pendulum\" target=\"_blank\" rel=\"noopener noreferrer\">inverted pendulum</a>. If there's an offset from standing perfectly straight, the <code>while</code> loop will incrementally fix this offset.</p>\n",
    "<p>Note that if your <code>while</code> loop takes too long to run, you might have made a mistake. In particular, remember to <strong>indent</strong> the contents of the loop!</p></div>"
   ]
  },
  {
   "cell_type": "code",
   "execution_count": 1,
   "metadata": {},
   "outputs": [
    {
     "name": "stdout",
     "output_type": "stream",
     "text": [
      "correcting...\n",
      "7\n",
      "correcting...\n",
      "6\n",
      "correcting...\n",
      "5\n",
      "correcting...\n",
      "4\n",
      "correcting...\n",
      "3\n",
      "correcting...\n",
      "2\n",
      "correcting...\n",
      "1\n",
      "correcting...\n",
      "0\n"
     ]
    }
   ],
   "source": [
    "# Initialize offset\n",
    "offset = 8\n",
    "\n",
    "# Code the while loop\n",
    "while offset!=0:\n",
    "    print(\"correcting...\")\n",
    "    offset = offset-1\n",
    "    print(offset)"
   ]
  },
  {
   "cell_type": "markdown",
   "metadata": {},
   "source": [
    "<h1>Add conditionals</h1>\n",
    "<div class=\"\"><p>The <code>while</code> loop that corrects the <code>offset</code> is a good start, but what if <code>offset</code> is negative? You can try to run the following code where <code>offset</code> is initialized to <code>-6</code>: </p>\n",
    "<pre><code># Initialize offset\n",
    "offset = -6\n",
    "\n",
    "#Code the while loop\n",
    "while offset != 0 :\n",
    "    print(\"correcting...\")\n",
    "    offset = offset - 1\n",
    "    print(offset)\n",
    "</code></pre>\n",
    "<p>but your session will be disconnected. The <code>while</code> loop will never stop running, because <code>offset</code> will be further decreased on every run. <code>offset != 0</code> will never become <code>False</code> and the <code>while</code> loop continues forever.</p>\n",
    "<p>Fix things by putting an <code>if</code>-<code>else</code> statement inside the <code>while</code> loop. If your code is still taking too long to run, you probably made a mistake!</p></div>"
   ]
  },
  {
   "cell_type": "code",
   "execution_count": 2,
   "metadata": {},
   "outputs": [
    {
     "name": "stdout",
     "output_type": "stream",
     "text": [
      "correcting...\n",
      "-5\n",
      "correcting...\n",
      "-4\n",
      "correcting...\n",
      "-3\n",
      "correcting...\n",
      "-2\n",
      "correcting...\n",
      "-1\n",
      "correcting...\n",
      "0\n"
     ]
    }
   ],
   "source": [
    "# Initialize offset\n",
    "offset = -6\n",
    "\n",
    "# Code the while loop\n",
    "while offset != 0 :\n",
    "    print(\"correcting...\")\n",
    "    if offset>0 :\n",
    "      offset=offset-1\n",
    "    else : \n",
    "      offset = offset+1    \n",
    "    print(offset)"
   ]
  },
  {
   "cell_type": "markdown",
   "metadata": {},
   "source": [
    "<h1>Loop over a list</h1>\n",
    "<div class=\"\"><p>Have another look at the <code>for</code> loop that Filip showed in the video:</p>\n",
    "<pre><code>fam = [1.73, 1.68, 1.71, 1.89]\n",
    "for height in fam : \n",
    "    print(height)\n",
    "</code></pre>\n",
    "<p>As usual, you simply have to indent the code with 4 spaces to tell Python which code should be executed in the <code>for</code> loop.</p>\n",
    "<p>The <code>areas</code> variable, containing the area of different rooms in your house, is already defined.</p></div>"
   ]
  },
  {
   "cell_type": "code",
   "execution_count": 3,
   "metadata": {},
   "outputs": [
    {
     "name": "stdout",
     "output_type": "stream",
     "text": [
      "11.25\n",
      "18.0\n",
      "20.0\n",
      "10.75\n",
      "9.5\n"
     ]
    }
   ],
   "source": [
    "# areas list\n",
    "areas = [11.25, 18.0, 20.0, 10.75, 9.50]\n",
    "\n",
    "# Code the for loop\n",
    "for each in areas:\n",
    "    print(each)"
   ]
  },
  {
   "cell_type": "markdown",
   "metadata": {},
   "source": [
    "<h1>Indexes and values (1)</h1>\n",
    "<div class=\"\"><p>Using a <code>for</code> loop to iterate over a list only gives you access to every list element in each run, one after the other. If you also want to access the index information, so where the list element you're iterating over is located, you can use <a href=\"https://docs.python.org/3/library/functions.html#enumerate\" target=\"_blank\" rel=\"noopener noreferrer\"><code>enumerate()</code></a>.</p>\n",
    "<p>As an example, have a look at how the <code>for</code> loop from the video was converted:</p>\n",
    "<pre><code>fam = [1.73, 1.68, 1.71, 1.89]\n",
    "for index, height in enumerate(fam) :\n",
    "    print(\"person \" + str(index) + \": \" + str(height))\n",
    "</code></pre></div>"
   ]
  },
  {
   "cell_type": "code",
   "execution_count": 4,
   "metadata": {},
   "outputs": [
    {
     "name": "stdout",
     "output_type": "stream",
     "text": [
      "room 0 : 11.25\n",
      "room 1 : 18.0\n",
      "room 2 : 20.0\n",
      "room 3 : 10.75\n",
      "room 4 : 9.5\n"
     ]
    }
   ],
   "source": [
    "# areas list\n",
    "areas = [11.25, 18.0, 20.0, 10.75, 9.50]\n",
    "\n",
    "# Change for loop to use enumerate() and update print()\n",
    "for index,a in enumerate(areas) :\n",
    "    print(\"room \"+str(index)+\" : \"+ str(a))"
   ]
  },
  {
   "cell_type": "markdown",
   "metadata": {},
   "source": [
    "<h1>Indexes and values (2)</h1>\n",
    "<div class=\"\"><p>For non-programmer folks, <code>room 0: 11.25</code> is strange. Wouldn't it be better if the count started at 1?</p></div>"
   ]
  },
  {
   "cell_type": "code",
   "execution_count": 5,
   "metadata": {},
   "outputs": [
    {
     "name": "stdout",
     "output_type": "stream",
     "text": [
      "room 1: 11.25\n",
      "room 2: 18.0\n",
      "room 3: 20.0\n",
      "room 4: 10.75\n",
      "room 5: 9.5\n"
     ]
    }
   ],
   "source": [
    "# areas list\n",
    "areas = [11.25, 18.0, 20.0, 10.75, 9.50]\n",
    "\n",
    "# Code the for loop\n",
    "for index, area in enumerate(areas) :\n",
    "    print(\"room \" + str(index+1) + \": \" + str(area))"
   ]
  },
  {
   "cell_type": "markdown",
   "metadata": {},
   "source": [
    "<h1>Loop over list of lists</h1>\n",
    "<div class=\"\"><p>Remember the <code>house</code> variable from the Intro to Python course? Have a look at its definition on the right. It's basically a list of lists, where each sublist contains the name and area of a room in your house.</p>\n",
    "<p>It's up to you to build a <code>for</code> loop from scratch this time!</p></div>"
   ]
  },
  {
   "cell_type": "code",
   "execution_count": 6,
   "metadata": {},
   "outputs": [
    {
     "name": "stdout",
     "output_type": "stream",
     "text": [
      "the hallway is 11.25 sqm\n",
      "the kitchen is 18.0 sqm\n",
      "the living room is 20.0 sqm\n",
      "the bedroom is 10.75 sqm\n",
      "the bathroom is 9.5 sqm\n"
     ]
    }
   ],
   "source": [
    "# house list of lists\n",
    "house = [[\"hallway\", 11.25], \n",
    "         [\"kitchen\", 18.0], \n",
    "         [\"living room\", 20.0], \n",
    "         [\"bedroom\", 10.75], \n",
    "         [\"bathroom\", 9.50]]\n",
    "         \n",
    "# Build a for loop from scratch\n",
    "for each in house:\n",
    "    print(\"the \"+each[0]+\" is \"+str(each[1])+\" sqm\")"
   ]
  },
  {
   "cell_type": "markdown",
   "metadata": {},
   "source": [
    "<h1>Loop over dictionary</h1>\n",
    "<div class=\"\"><p>In Python 3, you need the <a href=\"https://docs.python.org/3/library/stdtypes.html#dict.items\" target=\"_blank\" rel=\"noopener noreferrer\"><code>items()</code></a> method to loop over a dictionary:</p>\n",
    "<pre><code>world = { \"afghanistan\":30.55, \n",
    "          \"albania\":2.77,\n",
    "          \"algeria\":39.21 }\n",
    "\n",
    "for key, value in world.items() :\n",
    "    print(key + \" -- \" + str(value))\n",
    "</code></pre>\n",
    "<p>Remember the <code>europe</code> dictionary that contained the names of some European countries as key and their capitals as corresponding value? Go ahead and write a loop to iterate over it!</p></div>"
   ]
  },
  {
   "cell_type": "code",
   "execution_count": 7,
   "metadata": {},
   "outputs": [
    {
     "name": "stdout",
     "output_type": "stream",
     "text": [
      "the capital of spain is madrid\n",
      "the capital of france is paris\n",
      "the capital of germany is berlin\n",
      "the capital of norway is oslo\n",
      "the capital of italy is rome\n",
      "the capital of poland is warsaw\n",
      "the capital of austria is vienna\n"
     ]
    }
   ],
   "source": [
    "# Definition of dictionary\n",
    "europe = {'spain':'madrid', 'france':'paris', 'germany':'berlin',\n",
    "          'norway':'oslo', 'italy':'rome', 'poland':'warsaw', 'austria':'vienna' }\n",
    "          \n",
    "# Iterate over europe\n",
    "for k,v in europe.items():\n",
    "    print(\"the capital of \"+k+\" is \"+v)"
   ]
  },
  {
   "cell_type": "markdown",
   "metadata": {},
   "source": [
    "<h1>Loop over Numpy array</h1>\n",
    "<div class=\"\"><p>If you're dealing with a 1D Numpy array, looping over all elements can be as simple as:</p>\n",
    "<pre><code>for x in my_array :\n",
    "    ...\n",
    "</code></pre>\n",
    "<p>If you're dealing with a 2D Numpy array, it's more complicated. A 2D array is built up of multiple 1D arrays. To explicitly iterate over all separate elements of a multi-dimensional array, you'll need this syntax:</p>\n",
    "<pre><code>for x in np.nditer(my_array) :\n",
    "    ...\n",
    "</code></pre>\n",
    "<p>Two Numpy arrays that you might recognize from the intro course are available in your Python session: <code>np_height</code>, a Numpy array containing the heights of Major League Baseball players, and <code>np_baseball</code>, a 2D Numpy array that contains both the heights (first column) and weights (second column) of those players.</p></div>"
   ]
  },
  {
   "cell_type": "markdown",
   "metadata": {},
   "source": [
    "<h1>Loop over DataFrame (1)</h1>\n",
    "<div class=\"\"><p>Iterating over a Pandas DataFrame is typically done with the <a href=\"http://pandas.pydata.org/pandas-docs/stable/generated/pandas.DataFrame.iterrows.html\" target=\"_blank\" rel=\"noopener noreferrer\"><code>iterrows()</code></a> method. Used in a <code>for</code> loop, every observation is iterated over and on every iteration the row label and actual row contents are available:</p>\n",
    "<pre><code>for lab, row in brics.iterrows() :\n",
    "    ...\n",
    "</code></pre>\n",
    "<p>In this and the following exercises you will be working on the <code>cars</code> DataFrame. It contains information on the cars per capita and whether people drive right or left for seven countries in the world.</p></div>"
   ]
  },
  {
   "cell_type": "code",
   "execution_count": 10,
   "metadata": {},
   "outputs": [
    {
     "name": "stdout",
     "output_type": "stream",
     "text": [
      "US\n",
      "cars_per_cap              809\n",
      "country         United States\n",
      "drives_right             True\n",
      "Name: US, dtype: object\n",
      "AUS\n",
      "cars_per_cap          731\n",
      "country         Australia\n",
      "drives_right        False\n",
      "Name: AUS, dtype: object\n",
      "JAP\n",
      "cars_per_cap      588\n",
      "country         Japan\n",
      "drives_right    False\n",
      "Name: JAP, dtype: object\n",
      "IN\n",
      "cars_per_cap       18\n",
      "country         India\n",
      "drives_right    False\n",
      "Name: IN, dtype: object\n",
      "RU\n",
      "cars_per_cap       200\n",
      "country         Russia\n",
      "drives_right      True\n",
      "Name: RU, dtype: object\n",
      "MOR\n",
      "cars_per_cap         70\n",
      "country         Morocco\n",
      "drives_right       True\n",
      "Name: MOR, dtype: object\n",
      "EG\n",
      "cars_per_cap       45\n",
      "country         Egypt\n",
      "drives_right     True\n",
      "Name: EG, dtype: object\n"
     ]
    }
   ],
   "source": [
    "# Import cars data\n",
    "import pandas as pd\n",
    "cars = pd.read_csv('cars.csv', index_col = 0)\n",
    "\n",
    "# Iterate over rows of cars\n",
    "for lab, row in cars.iterrows():\n",
    "    print(lab)\n",
    "    print(row)"
   ]
  },
  {
   "cell_type": "markdown",
   "metadata": {},
   "source": [
    "<h1>Loop over DataFrame (2)</h1>\n",
    "<div class=\"\"><p>The row data that's generated by <a href=\"http://pandas.pydata.org/pandas-docs/stable/generated/pandas.DataFrame.iterrows.html\" target=\"_blank\" rel=\"noopener noreferrer\"><code>iterrows()</code></a> on every run is a Pandas Series. This format is not very convenient to print out. Luckily, you can easily select variables from the Pandas Series using square brackets:</p>\n",
    "<pre><code>for lab, row in brics.iterrows() :\n",
    "    print(row['country'])\n",
    "</code></pre></div>"
   ]
  },
  {
   "cell_type": "code",
   "execution_count": 11,
   "metadata": {},
   "outputs": [
    {
     "name": "stdout",
     "output_type": "stream",
     "text": [
      "US: 809\n",
      "AUS: 731\n",
      "JAP: 588\n",
      "IN: 18\n",
      "RU: 200\n",
      "MOR: 70\n",
      "EG: 45\n"
     ]
    }
   ],
   "source": [
    "# Import cars data\n",
    "import pandas as pd\n",
    "cars = pd.read_csv('cars.csv', index_col = 0)\n",
    "\n",
    "# Adapt for loop\n",
    "for lab, row in cars.iterrows() :\n",
    "    print(lab+\": \"+str(row['cars_per_cap']))"
   ]
  },
  {
   "cell_type": "markdown",
   "metadata": {},
   "source": [
    "<h1>Add column (1)</h1>\n",
    "<div class=\"\"><p>In the video, Filip showed you how to add the length of the country names of the <code>brics</code> DataFrame in a new column:</p>\n",
    "<pre><code>for lab, row in brics.iterrows() :\n",
    "    brics.loc[lab, \"name_length\"] = len(row[\"country\"])\n",
    "</code></pre>\n",
    "<p>You can do similar things on the <code>cars</code> DataFrame.</p></div>"
   ]
  },
  {
   "cell_type": "code",
   "execution_count": 12,
   "metadata": {},
   "outputs": [
    {
     "name": "stdout",
     "output_type": "stream",
     "text": [
      "     cars_per_cap        country  drives_right        COUNTRY\n",
      "US            809  United States          True  UNITED STATES\n",
      "AUS           731      Australia         False      AUSTRALIA\n",
      "JAP           588          Japan         False          JAPAN\n",
      "IN             18          India         False          INDIA\n",
      "RU            200         Russia          True         RUSSIA\n",
      "MOR            70        Morocco          True        MOROCCO\n",
      "EG             45          Egypt          True          EGYPT\n"
     ]
    }
   ],
   "source": [
    "# Import cars data\n",
    "import pandas as pd\n",
    "cars = pd.read_csv('cars.csv', index_col = 0)\n",
    "\n",
    "# Code for loop that adds COUNTRY column\n",
    "for lab, row in cars.iterrows():\n",
    "    cars.loc[lab, \"COUNTRY\"] = row['country'].upper()\n",
    "\n",
    "\n",
    "# Print cars\n",
    "print(cars)"
   ]
  },
  {
   "cell_type": "markdown",
   "metadata": {},
   "source": [
    "<h1>Add column (2)</h1>\n",
    "<div class=\"\"><p>Using <a href=\"http://pandas.pydata.org/pandas-docs/stable/generated/pandas.DataFrame.iterrows.html\" target=\"_blank\" rel=\"noopener noreferrer\"><code>iterrows()</code></a> to iterate over every observation of a Pandas DataFrame is easy to understand, but not very efficient. On every iteration, you're creating a new Pandas Series.</p>\n",
    "<p>If you want to add a column to a DataFrame by calling a function on another column, the <a href=\"http://pandas.pydata.org/pandas-docs/stable/generated/pandas.DataFrame.iterrows.html\" target=\"_blank\" rel=\"noopener noreferrer\"><code>iterrows()</code></a> method in combination with a <code>for</code> loop is not the preferred way to go. Instead, you'll want to use <a href=\"http://pandas.pydata.org/pandas-docs/stable/generated/pandas.Series.apply.html\" target=\"_blank\" rel=\"noopener noreferrer\"><code>apply()</code></a>.</p>\n",
    "<p>Compare the <a href=\"http://pandas.pydata.org/pandas-docs/stable/generated/pandas.DataFrame.iterrows.html\" target=\"_blank\" rel=\"noopener noreferrer\"><code>iterrows()</code></a> version with the <a href=\"http://pandas.pydata.org/pandas-docs/stable/generated/pandas.Series.apply.html\" target=\"_blank\" rel=\"noopener noreferrer\"><code>apply()</code></a> version to get the same result in the <code>brics</code> DataFrame:</p>\n",
    "<pre><code>for lab, row in brics.iterrows() :\n",
    "    brics.loc[lab, \"name_length\"] = len(row[\"country\"])\n",
    "\n",
    "brics[\"name_length\"] = brics[\"country\"].apply(len)\n",
    "</code></pre>\n",
    "<p>We can do a similar thing to call the <a href=\"https://docs.python.org/2/library/stdtypes.html#str.upper\" target=\"_blank\" rel=\"noopener noreferrer\"><code>upper()</code></a> method on every name in the <code>country</code> column. However, <a href=\"https://docs.python.org/2/library/stdtypes.html#str.upper\" target=\"_blank\" rel=\"noopener noreferrer\"><code>upper()</code></a> is a <strong>method</strong>, so we'll need a slightly different approach:</p></div>"
   ]
  },
  {
   "cell_type": "code",
   "execution_count": 14,
   "metadata": {},
   "outputs": [
    {
     "name": "stdout",
     "output_type": "stream",
     "text": [
      "     cars_per_cap        country  drives_right        COUNTRY  country_length\n",
      "US            809  United States          True  UNITED STATES              13\n",
      "AUS           731      Australia         False      AUSTRALIA               9\n",
      "JAP           588          Japan         False          JAPAN               5\n",
      "IN             18          India         False          INDIA               5\n",
      "RU            200         Russia          True         RUSSIA               6\n",
      "MOR            70        Morocco          True        MOROCCO               7\n",
      "EG             45          Egypt          True          EGYPT               5\n"
     ]
    }
   ],
   "source": [
    "# Import cars data\n",
    "import pandas as pd\n",
    "cars = pd.read_csv('cars.csv', index_col = 0)\n",
    "\n",
    "# Use .apply(str.upper)\n",
    "cars[\"COUNTRY\"] = cars[\"country\"].apply(str.upper)\n",
    "\n",
    "cars[\"country_length\"] = cars[\"country\"].apply(len)\n",
    "\n",
    "print(cars)"
   ]
  },
  {
   "cell_type": "code",
   "execution_count": null,
   "metadata": {},
   "outputs": [],
   "source": []
  }
 ],
 "metadata": {
  "kernelspec": {
   "display_name": "Python 3",
   "language": "python",
   "name": "python3"
  },
  "language_info": {
   "codemirror_mode": {
    "name": "ipython",
    "version": 3
   },
   "file_extension": ".py",
   "mimetype": "text/x-python",
   "name": "python",
   "nbconvert_exporter": "python",
   "pygments_lexer": "ipython3",
   "version": "3.7.4"
  }
 },
 "nbformat": 4,
 "nbformat_minor": 2
}
